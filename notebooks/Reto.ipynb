{
 "cells": [
  {
   "cell_type": "code",
   "execution_count": 1,
   "metadata": {
    "id": "_MwZE1g16664"
   },
   "outputs": [],
   "source": [
    "import pandas as pd\n",
    "import seaborn as sns\n",
    "import matplotlib.pyplot as plt\n",
    "import missingno as msno\n"
   ]
  },
  {
   "cell_type": "code",
   "execution_count": 2,
   "metadata": {},
   "outputs": [],
   "source": [
    "path = '../data/raw/QS by Subjects 2014-2021.xlsx'\n"
   ]
  },
  {
   "cell_type": "code",
   "execution_count": 3,
   "metadata": {
    "id": "w1V5tUdh7X7l"
   },
   "outputs": [],
   "source": [
    "df_business = pd.read_excel(path, sheet_name='Business & Management Studies')\n",
    "df_computer = pd.read_excel(path, sheet_name='Computer Science & Information ')\n",
    "df_Eco = pd.read_excel(path, sheet_name='Economics & Econometrics')\n",
    "df_Med = pd.read_excel(path, sheet_name='Medicine')\n",
    "df_Eng = pd.read_excel(path, sheet_name='Engineering & Technology (Facul')\n"
   ]
  },
  {
   "cell_type": "code",
   "execution_count": 4,
   "metadata": {},
   "outputs": [],
   "source": [
    "uni = 'Universidad de Los Andes Colombia'\n"
   ]
  },
  {
   "cell_type": "code",
   "execution_count": 5,
   "metadata": {
    "colab": {
     "base_uri": "https://localhost:8080/",
     "height": 548
    },
    "id": "MDEewo0gRCeZ",
    "outputId": "06438ce2-a28d-4f3a-a903-4c1710fdfff5"
   },
   "outputs": [],
   "source": [
    "# Se hace data frame con datos del Tec de Monterrey\n",
    "datos_tecBusiness = df_business.loc[:,\n",
    "                                    'Institution'] == uni\n",
    "df_tecBusiness = df_business.loc[datos_tecBusiness]\n",
    "\n",
    "datos_tecComputer = df_computer.loc[:,\n",
    "                                    'Institution'] == uni\n",
    "df_tecComputer = df_computer.loc[datos_tecComputer]\n",
    "\n",
    "datos_tecEco = df_Eco.loc[:,\n",
    "                          'Institution'] == uni\n",
    "df_tecEco = df_Eco.loc[datos_tecEco]\n",
    "\n",
    "datos_tecMed = df_Med.loc[:,\n",
    "                          'Institution'] == uni\n",
    "df_tecMed = df_Med.loc[datos_tecMed]\n",
    "\n",
    "datos_tecEng = df_Eng.loc[:,\n",
    "                          'Institution'] == uni\n",
    "df_tecEng = df_Eng.loc[datos_tecEng]\n",
    "\n",
    "df_tec = pd.concat([df_tecBusiness, df_tecComputer,\n",
    "                   df_tecEco, df_tecMed, df_tecEng])\n",
    "# df_tecEng\n"
   ]
  },
  {
   "cell_type": "code",
   "execution_count": 6,
   "metadata": {
    "colab": {
     "base_uri": "https://localhost:8080/",
     "height": 1000
    },
    "id": "gioEyv5hTzyo",
    "outputId": "427f3be6-f93d-43de-8ac4-9d4020bbbab1"
   },
   "outputs": [
    {
     "name": "stderr",
     "output_type": "stream",
     "text": [
      "/var/folders/d_/jdkfxb9j7s5d540rn875nn2h0000gn/T/ipykernel_24183/1865552986.py:1: SettingWithCopyWarning: \n",
      "A value is trying to be set on a copy of a slice from a DataFrame.\n",
      "Try using .loc[row_indexer,col_indexer] = value instead\n",
      "\n",
      "See the caveats in the documentation: https://pandas.pydata.org/pandas-docs/stable/user_guide/indexing.html#returning-a-view-versus-a-copy\n",
      "  df_tecBusiness['Score'] = df_tecBusiness['Score'].fillna(\n",
      "/var/folders/d_/jdkfxb9j7s5d540rn875nn2h0000gn/T/ipykernel_24183/1865552986.py:3: SettingWithCopyWarning: \n",
      "A value is trying to be set on a copy of a slice from a DataFrame.\n",
      "Try using .loc[row_indexer,col_indexer] = value instead\n",
      "\n",
      "See the caveats in the documentation: https://pandas.pydata.org/pandas-docs/stable/user_guide/indexing.html#returning-a-view-versus-a-copy\n",
      "  df_tecBusiness['Year'] = df_tecBusiness['Year'].astype('string')\n",
      "/var/folders/d_/jdkfxb9j7s5d540rn875nn2h0000gn/T/ipykernel_24183/1865552986.py:4: SettingWithCopyWarning: \n",
      "A value is trying to be set on a copy of a slice from a DataFrame.\n",
      "Try using .loc[row_indexer,col_indexer] = value instead\n",
      "\n",
      "See the caveats in the documentation: https://pandas.pydata.org/pandas-docs/stable/user_guide/indexing.html#returning-a-view-versus-a-copy\n",
      "  df_tecBusiness['H Score'] = df_tecBusiness['H Score'].astype('float')\n",
      "/var/folders/d_/jdkfxb9j7s5d540rn875nn2h0000gn/T/ipykernel_24183/1865552986.py:5: SettingWithCopyWarning: \n",
      "A value is trying to be set on a copy of a slice from a DataFrame.\n",
      "Try using .loc[row_indexer,col_indexer] = value instead\n",
      "\n",
      "See the caveats in the documentation: https://pandas.pydata.org/pandas-docs/stable/user_guide/indexing.html#returning-a-view-versus-a-copy\n",
      "  df_tecBusiness['Score'] = df_tecBusiness['Score'].astype('float')\n",
      "/var/folders/d_/jdkfxb9j7s5d540rn875nn2h0000gn/T/ipykernel_24183/1865552986.py:6: SettingWithCopyWarning: \n",
      "A value is trying to be set on a copy of a slice from a DataFrame.\n",
      "Try using .loc[row_indexer,col_indexer] = value instead\n",
      "\n",
      "See the caveats in the documentation: https://pandas.pydata.org/pandas-docs/stable/user_guide/indexing.html#returning-a-view-versus-a-copy\n",
      "  df_tecBusiness['Citations Score'] = df_tecBusiness['Citations Score'].astype(\n",
      "/Applications/anaconda3/envs/rankings/lib/python3.10/site-packages/numpy/lib/nanfunctions.py:1216: RuntimeWarning: Mean of empty slice\n",
      "  return np.nanmean(a, axis, out=out, keepdims=keepdims)\n",
      "/var/folders/d_/jdkfxb9j7s5d540rn875nn2h0000gn/T/ipykernel_24183/1865552986.py:9: SettingWithCopyWarning: \n",
      "A value is trying to be set on a copy of a slice from a DataFrame.\n",
      "Try using .loc[row_indexer,col_indexer] = value instead\n",
      "\n",
      "See the caveats in the documentation: https://pandas.pydata.org/pandas-docs/stable/user_guide/indexing.html#returning-a-view-versus-a-copy\n",
      "  df_tecComputer['Score'] = df_tecComputer['Score'].fillna(\n",
      "/var/folders/d_/jdkfxb9j7s5d540rn875nn2h0000gn/T/ipykernel_24183/1865552986.py:11: SettingWithCopyWarning: \n",
      "A value is trying to be set on a copy of a slice from a DataFrame.\n",
      "Try using .loc[row_indexer,col_indexer] = value instead\n",
      "\n",
      "See the caveats in the documentation: https://pandas.pydata.org/pandas-docs/stable/user_guide/indexing.html#returning-a-view-versus-a-copy\n",
      "  df_tecComputer['Year'] = df_tecComputer['Year'].astype('string')\n",
      "/var/folders/d_/jdkfxb9j7s5d540rn875nn2h0000gn/T/ipykernel_24183/1865552986.py:12: SettingWithCopyWarning: \n",
      "A value is trying to be set on a copy of a slice from a DataFrame.\n",
      "Try using .loc[row_indexer,col_indexer] = value instead\n",
      "\n",
      "See the caveats in the documentation: https://pandas.pydata.org/pandas-docs/stable/user_guide/indexing.html#returning-a-view-versus-a-copy\n",
      "  df_tecComputer['H Score'] = df_tecComputer['H Score'].astype('float')\n",
      "/var/folders/d_/jdkfxb9j7s5d540rn875nn2h0000gn/T/ipykernel_24183/1865552986.py:13: SettingWithCopyWarning: \n",
      "A value is trying to be set on a copy of a slice from a DataFrame.\n",
      "Try using .loc[row_indexer,col_indexer] = value instead\n",
      "\n",
      "See the caveats in the documentation: https://pandas.pydata.org/pandas-docs/stable/user_guide/indexing.html#returning-a-view-versus-a-copy\n",
      "  df_tecComputer['Score'] = df_tecComputer['Score'].astype('float')\n",
      "/var/folders/d_/jdkfxb9j7s5d540rn875nn2h0000gn/T/ipykernel_24183/1865552986.py:14: SettingWithCopyWarning: \n",
      "A value is trying to be set on a copy of a slice from a DataFrame.\n",
      "Try using .loc[row_indexer,col_indexer] = value instead\n",
      "\n",
      "See the caveats in the documentation: https://pandas.pydata.org/pandas-docs/stable/user_guide/indexing.html#returning-a-view-versus-a-copy\n",
      "  df_tecComputer['Citations Score'] = df_tecComputer['Citations Score'].astype(\n",
      "/Applications/anaconda3/envs/rankings/lib/python3.10/site-packages/numpy/lib/nanfunctions.py:1216: RuntimeWarning: Mean of empty slice\n",
      "  return np.nanmean(a, axis, out=out, keepdims=keepdims)\n",
      "/var/folders/d_/jdkfxb9j7s5d540rn875nn2h0000gn/T/ipykernel_24183/1865552986.py:17: SettingWithCopyWarning: \n",
      "A value is trying to be set on a copy of a slice from a DataFrame.\n",
      "Try using .loc[row_indexer,col_indexer] = value instead\n",
      "\n",
      "See the caveats in the documentation: https://pandas.pydata.org/pandas-docs/stable/user_guide/indexing.html#returning-a-view-versus-a-copy\n",
      "  df_tecEco['Score'] = df_tecEco['Score'].fillna(df_tecEco['Score'].median())\n",
      "/var/folders/d_/jdkfxb9j7s5d540rn875nn2h0000gn/T/ipykernel_24183/1865552986.py:18: SettingWithCopyWarning: \n",
      "A value is trying to be set on a copy of a slice from a DataFrame.\n",
      "Try using .loc[row_indexer,col_indexer] = value instead\n",
      "\n",
      "See the caveats in the documentation: https://pandas.pydata.org/pandas-docs/stable/user_guide/indexing.html#returning-a-view-versus-a-copy\n",
      "  df_tecEco['Year'] = df_tecEco['Year'].astype('string')\n",
      "/var/folders/d_/jdkfxb9j7s5d540rn875nn2h0000gn/T/ipykernel_24183/1865552986.py:19: SettingWithCopyWarning: \n",
      "A value is trying to be set on a copy of a slice from a DataFrame.\n",
      "Try using .loc[row_indexer,col_indexer] = value instead\n",
      "\n",
      "See the caveats in the documentation: https://pandas.pydata.org/pandas-docs/stable/user_guide/indexing.html#returning-a-view-versus-a-copy\n",
      "  df_tecEco['H Score'] = df_tecEco['H Score'].astype('float')\n",
      "/var/folders/d_/jdkfxb9j7s5d540rn875nn2h0000gn/T/ipykernel_24183/1865552986.py:20: SettingWithCopyWarning: \n",
      "A value is trying to be set on a copy of a slice from a DataFrame.\n",
      "Try using .loc[row_indexer,col_indexer] = value instead\n",
      "\n",
      "See the caveats in the documentation: https://pandas.pydata.org/pandas-docs/stable/user_guide/indexing.html#returning-a-view-versus-a-copy\n",
      "  df_tecEco['Score'] = df_tecEco['Score'].astype('float')\n",
      "/var/folders/d_/jdkfxb9j7s5d540rn875nn2h0000gn/T/ipykernel_24183/1865552986.py:21: SettingWithCopyWarning: \n",
      "A value is trying to be set on a copy of a slice from a DataFrame.\n",
      "Try using .loc[row_indexer,col_indexer] = value instead\n",
      "\n",
      "See the caveats in the documentation: https://pandas.pydata.org/pandas-docs/stable/user_guide/indexing.html#returning-a-view-versus-a-copy\n",
      "  df_tecEco['Citations Score'] = df_tecEco['Citations Score'].astype('float')\n",
      "/Applications/anaconda3/envs/rankings/lib/python3.10/site-packages/numpy/lib/nanfunctions.py:1216: RuntimeWarning: Mean of empty slice\n",
      "  return np.nanmean(a, axis, out=out, keepdims=keepdims)\n",
      "/var/folders/d_/jdkfxb9j7s5d540rn875nn2h0000gn/T/ipykernel_24183/1865552986.py:23: SettingWithCopyWarning: \n",
      "A value is trying to be set on a copy of a slice from a DataFrame.\n",
      "Try using .loc[row_indexer,col_indexer] = value instead\n",
      "\n",
      "See the caveats in the documentation: https://pandas.pydata.org/pandas-docs/stable/user_guide/indexing.html#returning-a-view-versus-a-copy\n",
      "  df_tecMed['Score'] = df_tecMed['Score'].fillna(df_tecMed['Score'].median())\n",
      "/var/folders/d_/jdkfxb9j7s5d540rn875nn2h0000gn/T/ipykernel_24183/1865552986.py:24: SettingWithCopyWarning: \n",
      "A value is trying to be set on a copy of a slice from a DataFrame.\n",
      "Try using .loc[row_indexer,col_indexer] = value instead\n",
      "\n",
      "See the caveats in the documentation: https://pandas.pydata.org/pandas-docs/stable/user_guide/indexing.html#returning-a-view-versus-a-copy\n",
      "  df_tecMed['Year'] = df_tecMed['Year'].astype('string')\n",
      "/var/folders/d_/jdkfxb9j7s5d540rn875nn2h0000gn/T/ipykernel_24183/1865552986.py:25: SettingWithCopyWarning: \n",
      "A value is trying to be set on a copy of a slice from a DataFrame.\n",
      "Try using .loc[row_indexer,col_indexer] = value instead\n",
      "\n",
      "See the caveats in the documentation: https://pandas.pydata.org/pandas-docs/stable/user_guide/indexing.html#returning-a-view-versus-a-copy\n",
      "  df_tecMed['H Score'] = df_tecMed['H Score'].astype('float')\n",
      "/var/folders/d_/jdkfxb9j7s5d540rn875nn2h0000gn/T/ipykernel_24183/1865552986.py:26: SettingWithCopyWarning: \n",
      "A value is trying to be set on a copy of a slice from a DataFrame.\n",
      "Try using .loc[row_indexer,col_indexer] = value instead\n",
      "\n",
      "See the caveats in the documentation: https://pandas.pydata.org/pandas-docs/stable/user_guide/indexing.html#returning-a-view-versus-a-copy\n",
      "  df_tecMed['Score'] = df_tecMed['Score'].astype('float')\n",
      "/var/folders/d_/jdkfxb9j7s5d540rn875nn2h0000gn/T/ipykernel_24183/1865552986.py:27: SettingWithCopyWarning: \n",
      "A value is trying to be set on a copy of a slice from a DataFrame.\n",
      "Try using .loc[row_indexer,col_indexer] = value instead\n",
      "\n",
      "See the caveats in the documentation: https://pandas.pydata.org/pandas-docs/stable/user_guide/indexing.html#returning-a-view-versus-a-copy\n",
      "  df_tecMed['Citations Score'] = df_tecMed['Citations Score'].astype('float')\n",
      "/var/folders/d_/jdkfxb9j7s5d540rn875nn2h0000gn/T/ipykernel_24183/1865552986.py:29: SettingWithCopyWarning: \n",
      "A value is trying to be set on a copy of a slice from a DataFrame.\n",
      "Try using .loc[row_indexer,col_indexer] = value instead\n",
      "\n",
      "See the caveats in the documentation: https://pandas.pydata.org/pandas-docs/stable/user_guide/indexing.html#returning-a-view-versus-a-copy\n",
      "  df_tecEng['Score'] = df_tecEng['Score'].fillna(df_tecEng['Score'].median())\n",
      "/var/folders/d_/jdkfxb9j7s5d540rn875nn2h0000gn/T/ipykernel_24183/1865552986.py:30: SettingWithCopyWarning: \n",
      "A value is trying to be set on a copy of a slice from a DataFrame.\n",
      "Try using .loc[row_indexer,col_indexer] = value instead\n",
      "\n",
      "See the caveats in the documentation: https://pandas.pydata.org/pandas-docs/stable/user_guide/indexing.html#returning-a-view-versus-a-copy\n",
      "  df_tecEng['Year'] = df_tecEng['Year'].astype('string')\n",
      "/var/folders/d_/jdkfxb9j7s5d540rn875nn2h0000gn/T/ipykernel_24183/1865552986.py:31: SettingWithCopyWarning: \n",
      "A value is trying to be set on a copy of a slice from a DataFrame.\n",
      "Try using .loc[row_indexer,col_indexer] = value instead\n",
      "\n",
      "See the caveats in the documentation: https://pandas.pydata.org/pandas-docs/stable/user_guide/indexing.html#returning-a-view-versus-a-copy\n",
      "  df_tecEng['H Score'] = df_tecEng['H Score'].astype('float')\n",
      "/var/folders/d_/jdkfxb9j7s5d540rn875nn2h0000gn/T/ipykernel_24183/1865552986.py:32: SettingWithCopyWarning: \n",
      "A value is trying to be set on a copy of a slice from a DataFrame.\n",
      "Try using .loc[row_indexer,col_indexer] = value instead\n",
      "\n",
      "See the caveats in the documentation: https://pandas.pydata.org/pandas-docs/stable/user_guide/indexing.html#returning-a-view-versus-a-copy\n",
      "  df_tecEng['Score'] = df_tecEng['Score'].astype('float')\n",
      "/var/folders/d_/jdkfxb9j7s5d540rn875nn2h0000gn/T/ipykernel_24183/1865552986.py:33: SettingWithCopyWarning: \n",
      "A value is trying to be set on a copy of a slice from a DataFrame.\n",
      "Try using .loc[row_indexer,col_indexer] = value instead\n",
      "\n",
      "See the caveats in the documentation: https://pandas.pydata.org/pandas-docs/stable/user_guide/indexing.html#returning-a-view-versus-a-copy\n",
      "  df_tecEng['Citations Score'] = df_tecEng['Citations Score'].astype('float')\n"
     ]
    }
   ],
   "source": [
    "\n",
    "df_tecBusiness['Score'] = df_tecBusiness['Score'].fillna(\n",
    "    df_tecBusiness['Score'].median())\n",
    "df_tecBusiness['Year'] = df_tecBusiness['Year'].astype('string')\n",
    "df_tecBusiness['H Score'] = df_tecBusiness['H Score'].astype('float')\n",
    "df_tecBusiness['Score'] = df_tecBusiness['Score'].astype('float')\n",
    "df_tecBusiness['Citations Score'] = df_tecBusiness['Citations Score'].astype(\n",
    "    'float')\n",
    "\n",
    "df_tecComputer['Score'] = df_tecComputer['Score'].fillna(\n",
    "    df_tecComputer['Score'].median())\n",
    "df_tecComputer['Year'] = df_tecComputer['Year'].astype('string')\n",
    "df_tecComputer['H Score'] = df_tecComputer['H Score'].astype('float')\n",
    "df_tecComputer['Score'] = df_tecComputer['Score'].astype('float')\n",
    "df_tecComputer['Citations Score'] = df_tecComputer['Citations Score'].astype(\n",
    "    'float')\n",
    "\n",
    "df_tecEco['Score'] = df_tecEco['Score'].fillna(df_tecEco['Score'].median())\n",
    "df_tecEco['Year'] = df_tecEco['Year'].astype('string')\n",
    "df_tecEco['H Score'] = df_tecEco['H Score'].astype('float')\n",
    "df_tecEco['Score'] = df_tecEco['Score'].astype('float')\n",
    "df_tecEco['Citations Score'] = df_tecEco['Citations Score'].astype('float')\n",
    "\n",
    "df_tecMed['Score'] = df_tecMed['Score'].fillna(df_tecMed['Score'].median())\n",
    "df_tecMed['Year'] = df_tecMed['Year'].astype('string')\n",
    "df_tecMed['H Score'] = df_tecMed['H Score'].astype('float')\n",
    "df_tecMed['Score'] = df_tecMed['Score'].astype('float')\n",
    "df_tecMed['Citations Score'] = df_tecMed['Citations Score'].astype('float')\n",
    "\n",
    "df_tecEng['Score'] = df_tecEng['Score'].fillna(df_tecEng['Score'].median())\n",
    "df_tecEng['Year'] = df_tecEng['Year'].astype('string')\n",
    "df_tecEng['H Score'] = df_tecEng['H Score'].astype('float')\n",
    "df_tecEng['Score'] = df_tecEng['Score'].astype('float')\n",
    "df_tecEng['Citations Score'] = df_tecEng['Citations Score'].astype('float')\n",
    "\n",
    "\n",
    "df_tec = df_tec.drop(['QS Region'], axis=1)\n",
    "# df_tecEng.head()\n"
   ]
  },
  {
   "cell_type": "code",
   "execution_count": 7,
   "metadata": {
    "id": "9IMryWiRaXAj"
   },
   "outputs": [
    {
     "data": {
      "text/plain": [
       "Year                 int64\n",
       "Faculty             object\n",
       "Subject             object\n",
       "Rank                object\n",
       "Institution         object\n",
       "Location            object\n",
       "Academic Score      object\n",
       "Employer Score      object\n",
       "Citations Score     object\n",
       "H Score             object\n",
       "Score               object\n",
       "Rank TB            float64\n",
       "Score_Calc         float64\n",
       "RankInt            float64\n",
       "Unnamed: 15         object\n",
       "Unnamed: 16         object\n",
       "dtype: object"
      ]
     },
     "execution_count": 7,
     "metadata": {},
     "output_type": "execute_result"
    }
   ],
   "source": [
    "# df_tec.to_excel('DatosTec.xlsx')\n",
    "# df_tecComputer.to_excel('DatosTec_Computer.xlsx')\n",
    "df_tec.dtypes\n"
   ]
  },
  {
   "cell_type": "code",
   "execution_count": 8,
   "metadata": {},
   "outputs": [],
   "source": [
    "df_tec['H Score'] = pd.to_numeric(df_tec['H Score'])\n"
   ]
  },
  {
   "cell_type": "code",
   "execution_count": 9,
   "metadata": {
    "colab": {
     "base_uri": "https://localhost:8080/",
     "height": 295
    },
    "id": "_FFUfxc6kV6z",
    "outputId": "94893552-38eb-4b3b-ab7f-3bcf79902c88"
   },
   "outputs": [
    {
     "data": {
      "image/png": "[encoded data removed]",
      "text/plain": [
       "<Figure size 432x288 with 1 Axes>"
      ]
     },
     "metadata": {
      "needs_background": "light"
     },
     "output_type": "display_data"
    }
   ],
   "source": [
    "ax = sns.barplot(x='Year', y=\"H Score\", data=df_tecMed)\n",
    "plt.title(uni)\n",
    "plt.show()\n"
   ]
  },
  {
   "cell_type": "code",
   "execution_count": 10,
   "metadata": {
    "colab": {
     "base_uri": "https://localhost:8080/",
     "height": 458
    },
    "id": "FKSTYPBWEYBn",
    "outputId": "198162a4-c037-4084-d94e-b3f0be9f8846",
    "scrolled": true
   },
   "outputs": [
    {
     "data": {
      "image/png": "[encoded data removed]",
      "text/plain": [
       "<Figure size 720x504 with 1 Axes>"
      ]
     },
     "metadata": {
      "needs_background": "light"
     },
     "output_type": "display_data"
    }
   ],
   "source": [
    "plt.figure(figsize=(10, 7))\n",
    "sns.lineplot(x=\"Year\", y=\"H Score\", hue='Subject',\n",
    "             style='Subject', data=df_tec, marker='P', linestyle='-')\n",
    "plt.title(uni)\n",
    "#plt.grid()\n",
    "plt.show()\n"
   ]
  },
  {
   "cell_type": "code",
   "execution_count": null,
   "metadata": {},
   "outputs": [],
   "source": []
  }
 ],
 "metadata": {
  "colab": {
   "collapsed_sections": [],
   "name": "Reto.ipynb",
   "provenance": []
  },
  "kernelspec": {
   "display_name": "Python 3 (ipykernel)",
   "language": "python",
   "name": "python3"
  },
  "language_info": {
   "codemirror_mode": {
    "name": "ipython",
    "version": 3
   },
   "file_extension": ".py",
   "mimetype": "text/x-python",
   "name": "python",
   "nbconvert_exporter": "python",
   "pygments_lexer": "ipython3",
   "version": "3.10.2"
  }
 },
 "nbformat": 4,
 "nbformat_minor": 1
}
