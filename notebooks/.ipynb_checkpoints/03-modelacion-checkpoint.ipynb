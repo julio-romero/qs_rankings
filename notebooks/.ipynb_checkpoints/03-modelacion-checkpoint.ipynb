{
 "cells": [
  {
   "cell_type": "markdown",
   "metadata": {},
   "source": [
    "# Aplicando el modelo\n",
    "\n",
    "## Imports\n",
    "\n",
    "* Usaremos pandas para el manejo del dataframe\n",
    "* Usaremos matplotlib para una pequeña viz\n",
    "* Para el modelo usaremos sklearn"
   ]
  },
  {
   "cell_type": "code",
   "execution_count": 115,
   "metadata": {},
   "outputs": [],
   "source": [
    "import pandas as pd\n",
    "import matplotlib.pyplot as plt\n",
    "from sklearn.model_selection import train_test_split\n",
    "from sklearn.linear_model import LinearRegression\n",
    "import seaborn as sns\n"
   ]
  },
  {
   "cell_type": "code",
   "execution_count": 116,
   "metadata": {},
   "outputs": [],
   "source": [
    "# Ojo con el path, cambiar si es necesario\n",
    "df = pd.read_csv('../data/processed/qs_wur.csv')\n",
    "df = df.drop(columns=['Unnamed: 0'])"
   ]
  },
  {
   "cell_type": "code",
   "execution_count": 117,
   "metadata": {},
   "outputs": [
    {
     "data": {
      "text/html": [
       "<div>\n",
       "<style scoped>\n",
       "    .dataframe tbody tr th:only-of-type {\n",
       "        vertical-align: middle;\n",
       "    }\n",
       "\n",
       "    .dataframe tbody tr th {\n",
       "        vertical-align: top;\n",
       "    }\n",
       "\n",
       "    .dataframe thead th {\n",
       "        text-align: right;\n",
       "    }\n",
       "</style>\n",
       "<table border=\"1\" class=\"dataframe\">\n",
       "  <thead>\n",
       "    <tr style=\"text-align: right;\">\n",
       "      <th></th>\n",
       "      <th>Year</th>\n",
       "      <th>Rank</th>\n",
       "      <th>O_Rank</th>\n",
       "      <th>Institution</th>\n",
       "      <th>Academic Reputation</th>\n",
       "      <th>AR Rank</th>\n",
       "      <th>Employer Reputation</th>\n",
       "      <th>ER Rank</th>\n",
       "      <th>Faculty Student</th>\n",
       "      <th>FS Rank</th>\n",
       "      <th>Citations per Faculty</th>\n",
       "      <th>CF Rank</th>\n",
       "      <th>International Faculty</th>\n",
       "      <th>IF Rank</th>\n",
       "      <th>International Students</th>\n",
       "      <th>IS Rank</th>\n",
       "      <th>Overall Score</th>\n",
       "    </tr>\n",
       "  </thead>\n",
       "  <tbody>\n",
       "    <tr>\n",
       "      <th>38</th>\n",
       "      <td>2011.0</td>\n",
       "      <td>39.0</td>\n",
       "      <td>39.0</td>\n",
       "      <td>Brown University</td>\n",
       "      <td>87.0</td>\n",
       "      <td>61.0</td>\n",
       "      <td>71.0</td>\n",
       "      <td>101.0</td>\n",
       "      <td>60.0</td>\n",
       "      <td>167.0</td>\n",
       "      <td>99.0</td>\n",
       "      <td>18.0</td>\n",
       "      <td>58.0</td>\n",
       "      <td>168.0</td>\n",
       "      <td>53.0</td>\n",
       "      <td>205.0</td>\n",
       "      <td>80.5</td>\n",
       "    </tr>\n",
       "    <tr>\n",
       "      <th>739</th>\n",
       "      <td>2018.0</td>\n",
       "      <td>40.0</td>\n",
       "      <td>40.0</td>\n",
       "      <td>Fudan University</td>\n",
       "      <td>91.4</td>\n",
       "      <td>57.0</td>\n",
       "      <td>97.1</td>\n",
       "      <td>35.0</td>\n",
       "      <td>76.1</td>\n",
       "      <td>140.0</td>\n",
       "      <td>63.7</td>\n",
       "      <td>138.0</td>\n",
       "      <td>79.5</td>\n",
       "      <td>193.0</td>\n",
       "      <td>45.2</td>\n",
       "      <td>316.0</td>\n",
       "      <td>80.6</td>\n",
       "    </tr>\n",
       "    <tr>\n",
       "      <th>508</th>\n",
       "      <td>2016.0</td>\n",
       "      <td>9.0</td>\n",
       "      <td>9.0</td>\n",
       "      <td>ETH Zurich (Swiss Federal Institute Of Technol...</td>\n",
       "      <td>99.9</td>\n",
       "      <td>19.0</td>\n",
       "      <td>99.0</td>\n",
       "      <td>28.0</td>\n",
       "      <td>78.6</td>\n",
       "      <td>140.0</td>\n",
       "      <td>98.8</td>\n",
       "      <td>21.0</td>\n",
       "      <td>100.0</td>\n",
       "      <td>13.0</td>\n",
       "      <td>98.0</td>\n",
       "      <td>41.0</td>\n",
       "      <td>95.5</td>\n",
       "    </tr>\n",
       "    <tr>\n",
       "      <th>211</th>\n",
       "      <td>2013.0</td>\n",
       "      <td>12.0</td>\n",
       "      <td>12.0</td>\n",
       "      <td>University Of Pennsylvania</td>\n",
       "      <td>98.5</td>\n",
       "      <td>32.0</td>\n",
       "      <td>96.2</td>\n",
       "      <td>26.0</td>\n",
       "      <td>99.6</td>\n",
       "      <td>26.0</td>\n",
       "      <td>92.4</td>\n",
       "      <td>41.0</td>\n",
       "      <td>55.7</td>\n",
       "      <td>213.0</td>\n",
       "      <td>66.8</td>\n",
       "      <td>164.0</td>\n",
       "      <td>94.5</td>\n",
       "    </tr>\n",
       "    <tr>\n",
       "      <th>904</th>\n",
       "      <td>2020.0</td>\n",
       "      <td>4.0</td>\n",
       "      <td>4.0</td>\n",
       "      <td>University of Oxford</td>\n",
       "      <td>100.0</td>\n",
       "      <td>3.0</td>\n",
       "      <td>100.0</td>\n",
       "      <td>3.0</td>\n",
       "      <td>100.0</td>\n",
       "      <td>8.0</td>\n",
       "      <td>84.7</td>\n",
       "      <td>45.0</td>\n",
       "      <td>99.7</td>\n",
       "      <td>64.0</td>\n",
       "      <td>98.5</td>\n",
       "      <td>50.0</td>\n",
       "      <td>97.2</td>\n",
       "    </tr>\n",
       "    <tr>\n",
       "      <th>31</th>\n",
       "      <td>2011.0</td>\n",
       "      <td>32.0</td>\n",
       "      <td>32.0</td>\n",
       "      <td>Ecole Polytechnique Fédérale de Lausanne (EPFL)</td>\n",
       "      <td>74.0</td>\n",
       "      <td>95.0</td>\n",
       "      <td>71.0</td>\n",
       "      <td>98.0</td>\n",
       "      <td>98.0</td>\n",
       "      <td>35.0</td>\n",
       "      <td>71.0</td>\n",
       "      <td>90.0</td>\n",
       "      <td>100.0</td>\n",
       "      <td>3.0</td>\n",
       "      <td>100.0</td>\n",
       "      <td>7.0</td>\n",
       "      <td>82.3</td>\n",
       "    </tr>\n",
       "    <tr>\n",
       "      <th>448</th>\n",
       "      <td>2015.0</td>\n",
       "      <td>49.0</td>\n",
       "      <td>49.0</td>\n",
       "      <td>Ruprecht-Karls-Universität Heidelberg</td>\n",
       "      <td>96.5</td>\n",
       "      <td>43.0</td>\n",
       "      <td>76.2</td>\n",
       "      <td>125.0</td>\n",
       "      <td>86.8</td>\n",
       "      <td>100.0</td>\n",
       "      <td>59.2</td>\n",
       "      <td>218.0</td>\n",
       "      <td>51.6</td>\n",
       "      <td>276.0</td>\n",
       "      <td>59.0</td>\n",
       "      <td>225.0</td>\n",
       "      <td>81.1</td>\n",
       "    </tr>\n",
       "    <tr>\n",
       "      <th>183</th>\n",
       "      <td>2012.0</td>\n",
       "      <td>84.0</td>\n",
       "      <td>84.0</td>\n",
       "      <td>Georgia Institute of Technology (Georgia Tech)</td>\n",
       "      <td>73.3</td>\n",
       "      <td>109.0</td>\n",
       "      <td>59.4</td>\n",
       "      <td>51.0</td>\n",
       "      <td>20.3</td>\n",
       "      <td>301.0</td>\n",
       "      <td>98.0</td>\n",
       "      <td>23.0</td>\n",
       "      <td>51.1</td>\n",
       "      <td>209.0</td>\n",
       "      <td>87.3</td>\n",
       "      <td>84.0</td>\n",
       "      <td>67.1</td>\n",
       "    </tr>\n",
       "    <tr>\n",
       "      <th>836</th>\n",
       "      <td>2019.0</td>\n",
       "      <td>59.0</td>\n",
       "      <td>59.0</td>\n",
       "      <td>Monash University</td>\n",
       "      <td>86.7</td>\n",
       "      <td>51.0</td>\n",
       "      <td>93.1</td>\n",
       "      <td>40.0</td>\n",
       "      <td>15.3</td>\n",
       "      <td>601.0</td>\n",
       "      <td>65.9</td>\n",
       "      <td>122.0</td>\n",
       "      <td>100.0</td>\n",
       "      <td>45.0</td>\n",
       "      <td>99.0</td>\n",
       "      <td>39.0</td>\n",
       "      <td>70.4</td>\n",
       "    </tr>\n",
       "    <tr>\n",
       "      <th>794</th>\n",
       "      <td>2018.0</td>\n",
       "      <td>95.0</td>\n",
       "      <td>95.0</td>\n",
       "      <td>The Hong Kong Polytechnic University</td>\n",
       "      <td>70.2</td>\n",
       "      <td>114.0</td>\n",
       "      <td>52.4</td>\n",
       "      <td>213.0</td>\n",
       "      <td>58.0</td>\n",
       "      <td>234.0</td>\n",
       "      <td>54.5</td>\n",
       "      <td>198.0</td>\n",
       "      <td>100.0</td>\n",
       "      <td>45.0</td>\n",
       "      <td>80.2</td>\n",
       "      <td>148.0</td>\n",
       "      <td>65.0</td>\n",
       "    </tr>\n",
       "  </tbody>\n",
       "</table>\n",
       "</div>"
      ],
      "text/plain": [
       "       Year  Rank O_Rank                                       Institution   \\\n",
       "38   2011.0  39.0   39.0                                   Brown University   \n",
       "739  2018.0  40.0   40.0                                   Fudan University   \n",
       "508  2016.0   9.0    9.0  ETH Zurich (Swiss Federal Institute Of Technol...   \n",
       "211  2013.0  12.0   12.0                         University Of Pennsylvania   \n",
       "904  2020.0   4.0    4.0                               University of Oxford   \n",
       "31   2011.0  32.0   32.0    Ecole Polytechnique Fédérale de Lausanne (EPFL)   \n",
       "448  2015.0  49.0   49.0              Ruprecht-Karls-Universität Heidelberg   \n",
       "183  2012.0  84.0   84.0     Georgia Institute of Technology (Georgia Tech)   \n",
       "836  2019.0  59.0   59.0                                  Monash University   \n",
       "794  2018.0  95.0   95.0               The Hong Kong Polytechnic University   \n",
       "\n",
       "     Academic Reputation  AR Rank  Employer Reputation  ER Rank  \\\n",
       "38                  87.0     61.0                 71.0    101.0   \n",
       "739                 91.4     57.0                 97.1     35.0   \n",
       "508                 99.9     19.0                 99.0     28.0   \n",
       "211                 98.5     32.0                 96.2     26.0   \n",
       "904                100.0      3.0                100.0      3.0   \n",
       "31                  74.0     95.0                 71.0     98.0   \n",
       "448                 96.5     43.0                 76.2    125.0   \n",
       "183                 73.3    109.0                 59.4     51.0   \n",
       "836                 86.7     51.0                 93.1     40.0   \n",
       "794                 70.2    114.0                 52.4    213.0   \n",
       "\n",
       "     Faculty Student  FS Rank  Citations per Faculty  CF Rank  \\\n",
       "38              60.0    167.0                   99.0     18.0   \n",
       "739             76.1    140.0                   63.7    138.0   \n",
       "508             78.6    140.0                   98.8     21.0   \n",
       "211             99.6     26.0                   92.4     41.0   \n",
       "904            100.0      8.0                   84.7     45.0   \n",
       "31              98.0     35.0                   71.0     90.0   \n",
       "448             86.8    100.0                   59.2    218.0   \n",
       "183             20.3    301.0                   98.0     23.0   \n",
       "836             15.3    601.0                   65.9    122.0   \n",
       "794             58.0    234.0                   54.5    198.0   \n",
       "\n",
       "     International Faculty  IF Rank  International Students  IS Rank  \\\n",
       "38                    58.0    168.0                    53.0    205.0   \n",
       "739                   79.5    193.0                    45.2    316.0   \n",
       "508                  100.0     13.0                    98.0     41.0   \n",
       "211                   55.7    213.0                    66.8    164.0   \n",
       "904                   99.7     64.0                    98.5     50.0   \n",
       "31                   100.0      3.0                   100.0      7.0   \n",
       "448                   51.6    276.0                    59.0    225.0   \n",
       "183                   51.1    209.0                    87.3     84.0   \n",
       "836                  100.0     45.0                    99.0     39.0   \n",
       "794                  100.0     45.0                    80.2    148.0   \n",
       "\n",
       "     Overall Score  \n",
       "38            80.5  \n",
       "739           80.6  \n",
       "508           95.5  \n",
       "211           94.5  \n",
       "904           97.2  \n",
       "31            82.3  \n",
       "448           81.1  \n",
       "183           67.1  \n",
       "836           70.4  \n",
       "794           65.0  "
      ]
     },
     "execution_count": 117,
     "metadata": {},
     "output_type": "execute_result"
    }
   ],
   "source": [
    "df.sample(10)"
   ]
  },
  {
   "cell_type": "code",
   "execution_count": 118,
   "metadata": {},
   "outputs": [
    {
     "data": {
      "text/plain": [
       "<AxesSubplot:>"
      ]
     },
     "execution_count": 118,
     "metadata": {},
     "output_type": "execute_result"
    },
    {
     "data": {
      "image/png": "[encoded data removed]",
      "text/plain": [
       "<Figure size 432x288 with 2 Axes>"
      ]
     },
     "metadata": {
      "needs_background": "light"
     },
     "output_type": "display_data"
    }
   ],
   "source": [
    "sns.heatmap(data=df.corr())\n"
   ]
  },
  {
   "cell_type": "code",
   "execution_count": 119,
   "metadata": {},
   "outputs": [],
   "source": [
    "#sns.pairplot(data=df, hue='Year')\n"
   ]
  },
  {
   "cell_type": "markdown",
   "metadata": {},
   "source": [
    "## Definiendo nuestros predictores\n",
    "\n",
    "En este caso todas las caracteristicas seran los predictores, mientras que la variable a predecir sera _Overall Score_"
   ]
  },
  {
   "cell_type": "code",
   "execution_count": 120,
   "metadata": {},
   "outputs": [
    {
     "data": {
      "text/plain": [
       "Index(['Year', 'Rank', 'O_Rank', 'Institution ', 'Academic Reputation',\n",
       "       'AR Rank', 'Employer Reputation', 'ER Rank', 'Faculty Student',\n",
       "       'FS Rank', 'Citations per Faculty', 'CF Rank', 'International Faculty',\n",
       "       'IF Rank', 'International Students', 'IS Rank', 'Overall Score'],\n",
       "      dtype='object')"
      ]
     },
     "execution_count": 120,
     "metadata": {},
     "output_type": "execute_result"
    }
   ],
   "source": [
    "df.columns"
   ]
  },
  {
   "cell_type": "code",
   "execution_count": 121,
   "metadata": {},
   "outputs": [],
   "source": [
    "columnas = ['AR Rank', 'ER Rank', 'FS Rank','CF Rank', 'IF Rank', 'IS Rank']"
   ]
  },
  {
   "cell_type": "code",
   "execution_count": 122,
   "metadata": {},
   "outputs": [],
   "source": [
    "X = df[columnas].values\n",
    "\n",
    "Y = df['Overall Score'].values\n"
   ]
  },
  {
   "cell_type": "markdown",
   "metadata": {},
   "source": [
    "Para evitar _overfitting_ separamos los datos en 80% para entrenamiento y 20% para test"
   ]
  },
  {
   "cell_type": "code",
   "execution_count": 123,
   "metadata": {},
   "outputs": [],
   "source": [
    "X_train, X_test, Y_train, Y_test = train_test_split(\n",
    "    X, Y, test_size=0.2, random_state=0)\n"
   ]
  },
  {
   "cell_type": "markdown",
   "metadata": {},
   "source": [
    "Aplicamos el modelo de regresion lineal con los datos de entrenamiento"
   ]
  },
  {
   "cell_type": "code",
   "execution_count": 124,
   "metadata": {},
   "outputs": [],
   "source": [
    "modelo = LinearRegression()\n"
   ]
  },
  {
   "cell_type": "code",
   "execution_count": 125,
   "metadata": {},
   "outputs": [
    {
     "data": {
      "text/plain": [
       "LinearRegression()"
      ]
     },
     "execution_count": 125,
     "metadata": {},
     "output_type": "execute_result"
    }
   ],
   "source": [
    "modelo.fit(X_train, Y_train)\n"
   ]
  },
  {
   "cell_type": "markdown",
   "metadata": {},
   "source": [
    "Ahora usaremos un **dataframe** para visualizar los coeficientes como en Excel"
   ]
  },
  {
   "cell_type": "code",
   "execution_count": 126,
   "metadata": {},
   "outputs": [],
   "source": [
    "coeff = pd.DataFrame(modelo.coef_, columnas, columns=['Coeffs'])\n"
   ]
  },
  {
   "cell_type": "code",
   "execution_count": 127,
   "metadata": {},
   "outputs": [
    {
     "data": {
      "text/html": [
       "<div>\n",
       "<style scoped>\n",
       "    .dataframe tbody tr th:only-of-type {\n",
       "        vertical-align: middle;\n",
       "    }\n",
       "\n",
       "    .dataframe tbody tr th {\n",
       "        vertical-align: top;\n",
       "    }\n",
       "\n",
       "    .dataframe thead th {\n",
       "        text-align: right;\n",
       "    }\n",
       "</style>\n",
       "<table border=\"1\" class=\"dataframe\">\n",
       "  <thead>\n",
       "    <tr style=\"text-align: right;\">\n",
       "      <th></th>\n",
       "      <th>Coeffs</th>\n",
       "    </tr>\n",
       "  </thead>\n",
       "  <tbody>\n",
       "    <tr>\n",
       "      <th>AR Rank</th>\n",
       "      <td>-0.107306</td>\n",
       "    </tr>\n",
       "    <tr>\n",
       "      <th>ER Rank</th>\n",
       "      <td>-0.025869</td>\n",
       "    </tr>\n",
       "    <tr>\n",
       "      <th>FS Rank</th>\n",
       "      <td>-0.033679</td>\n",
       "    </tr>\n",
       "    <tr>\n",
       "      <th>CF Rank</th>\n",
       "      <td>-0.036277</td>\n",
       "    </tr>\n",
       "    <tr>\n",
       "      <th>IF Rank</th>\n",
       "      <td>-0.010182</td>\n",
       "    </tr>\n",
       "    <tr>\n",
       "      <th>IS Rank</th>\n",
       "      <td>-0.008241</td>\n",
       "    </tr>\n",
       "  </tbody>\n",
       "</table>\n",
       "</div>"
      ],
      "text/plain": [
       "           Coeffs\n",
       "AR Rank -0.107306\n",
       "ER Rank -0.025869\n",
       "FS Rank -0.033679\n",
       "CF Rank -0.036277\n",
       "IF Rank -0.010182\n",
       "IS Rank -0.008241"
      ]
     },
     "execution_count": 127,
     "metadata": {},
     "output_type": "execute_result"
    }
   ],
   "source": [
    "coeff\n"
   ]
  },
  {
   "cell_type": "markdown",
   "metadata": {},
   "source": [
    "La variable *Y_pred* sera la y que el modelo predecira usando los datos de test o sea el 20%"
   ]
  },
  {
   "cell_type": "code",
   "execution_count": 128,
   "metadata": {},
   "outputs": [],
   "source": [
    "Y_pred = modelo.predict(X_test)\n"
   ]
  },
  {
   "cell_type": "markdown",
   "metadata": {},
   "source": [
    "Para la validacion se calculara la diferencia entre la _y_ de prueba y la _y_ predecida"
   ]
  },
  {
   "cell_type": "code",
   "execution_count": 129,
   "metadata": {},
   "outputs": [],
   "source": [
    "validacion = pd.DataFrame(\n",
    "    {\"Actual\": Y_test, \"Prediccion\": Y_pred, \"Diferencia\": Y_test-Y_pred})\n"
   ]
  },
  {
   "cell_type": "markdown",
   "metadata": {},
   "source": [
    "Tomamos una muestra de la validacion para hacer nuestros plot"
   ]
  },
  {
   "cell_type": "code",
   "execution_count": 130,
   "metadata": {},
   "outputs": [],
   "source": [
    "validacion\n",
    "muestra = validacion.sample(30)\n"
   ]
  },
  {
   "cell_type": "markdown",
   "metadata": {},
   "source": [
    "Adicionalmente calculamos el $R^2$"
   ]
  },
  {
   "cell_type": "code",
   "execution_count": 131,
   "metadata": {},
   "outputs": [
    {
     "name": "stdout",
     "output_type": "stream",
     "text": [
      "R2 del entrenamiento: 0.9222\n",
      "R2 del test: 0.9158\n"
     ]
    }
   ],
   "source": [
    "r2_train = modelo.score(X_train, Y_train)\n",
    "r2_test = modelo.score(X_test, Y_test)\n",
    "print(f\"R2 del entrenamiento: {r2_train:.4f}\\nR2 del test: {r2_test:.4f}\")\n"
   ]
  },
  {
   "cell_type": "markdown",
   "metadata": {},
   "source": [
    "Finalmente hacemos este plot, el cual nos muestra una buena precision del modelo"
   ]
  },
  {
   "cell_type": "code",
   "execution_count": 132,
   "metadata": {},
   "outputs": [
    {
     "data": {
      "image/png": "[encoded data removed]",
      "text/plain": [
       "<Figure size 432x288 with 1 Axes>"
      ]
     },
     "metadata": {
      "needs_background": "light"
     },
     "output_type": "display_data"
    }
   ],
   "source": [
    "muestra.plot.bar()\n",
    "plt.savefig('../data/img/diferencia.jpg', dpi=500)\n"
   ]
  },
  {
   "cell_type": "code",
   "execution_count": 133,
   "metadata": {},
   "outputs": [
    {
     "data": {
      "image/png": "[encoded data removed]",
      "text/plain": [
       "<Figure size 720x720 with 1 Axes>"
      ]
     },
     "metadata": {
      "needs_background": "light"
     },
     "output_type": "display_data"
    }
   ],
   "source": [
    "coeffs = abs(coeff.sort_values(by='Coeffs',ascending=False))\n",
    "coeffs.plot.bar(figsize=(10,10),color='green')\n",
    "plt.grid()\n",
    "plt.show()"
   ]
  },
  {
   "cell_type": "code",
   "execution_count": null,
   "metadata": {},
   "outputs": [],
   "source": []
  }
 ],
 "metadata": {
  "interpreter": {
   "hash": "7f2fb5054ba0ce0c884899d2ba4a497eb862025f3286037962041267a704989d"
  },
  "kernelspec": {
   "display_name": "Python 3.10.2 ('rankings')",
   "language": "python",
   "name": "python3"
  },
  "language_info": {
   "codemirror_mode": {
    "name": "ipython",
    "version": 3
   },
   "file_extension": ".py",
   "mimetype": "text/x-python",
   "name": "python",
   "nbconvert_exporter": "python",
   "pygments_lexer": "ipython3",
   "version": "3.10.2"
  },
  "orig_nbformat": 4
 },
 "nbformat": 4,
 "nbformat_minor": 2
}
