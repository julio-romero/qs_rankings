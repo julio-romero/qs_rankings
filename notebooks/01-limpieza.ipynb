{
 "cells": [
  {
   "cell_type": "markdown",
   "metadata": {},
   "source": [
    "# Limpieza\n",
    "\n",
    "Aqui se podria empezar la limpieza de Datos, e idear el analisis"
   ]
  },
  {
   "cell_type": "code",
   "execution_count": null,
   "metadata": {},
   "outputs": [],
   "source": [
    "import pandas as pd\n",
    "from src.functions import lectura\n",
    "import numpy as np\n"
   ]
  },
  {
   "cell_type": "code",
   "execution_count": null,
   "metadata": {},
   "outputs": [],
   "source": [
    "excel_path = '../data/raw/QS WUR 2011-2022.xlsx'\n",
    "df = lectura(excel_path)\n"
   ]
  },
  {
   "cell_type": "code",
   "execution_count": null,
   "metadata": {},
   "outputs": [],
   "source": [
    "df.sample(7)\n"
   ]
  },
  {
   "cell_type": "markdown",
   "metadata": {},
   "source": [
    "## Limpieza de NaNs\n",
    "\n",
    "Contamos NaNs y podemos empezar a limpiar "
   ]
  },
  {
   "cell_type": "code",
   "execution_count": null,
   "metadata": {},
   "outputs": [],
   "source": [
    "df.isna().sum()\n"
   ]
  },
  {
   "cell_type": "markdown",
   "metadata": {},
   "source": [
    "Aqui tenemos dos opciones usar __dropna__ y __fillna__ creo que es mas preciso usar el segundo"
   ]
  },
  {
   "cell_type": "code",
   "execution_count": null,
   "metadata": {},
   "outputs": [],
   "source": [
    "df.dropna()\n"
   ]
  },
  {
   "cell_type": "markdown",
   "metadata": {},
   "source": [
    "## Ranks\n",
    "\n",
    "Podemos llenar los ranks usando el metodo de backward o forward fill, en este caso y sin ninguna razon usare el forward"
   ]
  },
  {
   "cell_type": "code",
   "execution_count": null,
   "metadata": {},
   "outputs": [],
   "source": [
    "df['Rank'] = df['Rank'].fillna(method='ffill')\n",
    "df['O_Rank'] = df['O_Rank'].fillna(method='ffill')\n",
    "df['AR Rank'] = df['AR Rank'].fillna(method='ffill')\n",
    "df['ER Rank'] = df['ER Rank'].fillna(method='ffill')\n",
    "df['FS Rank'] = df['FS Rank'].fillna(method='ffill')\n",
    "df['CF Rank'] = df['CF Rank'].fillna(method='ffill')\n",
    "df['IF Rank'] = df['IF Rank'].fillna(method='ffill')\n",
    "df['IS Rank'] = df['IS Rank'].fillna(method='ffill')\n"
   ]
  },
  {
   "cell_type": "markdown",
   "metadata": {},
   "source": [
    "## Reputaciones\n",
    "\n",
    "Aqui suponemos que la escuela que esta arriba tiene mejor reputacion que la que esta abajo, por la que una media aritmetica seria suficiente "
   ]
  },
  {
   "cell_type": "code",
   "execution_count": null,
   "metadata": {},
   "outputs": [],
   "source": [
    "df['Academic Reputation'] = df['Academic Reputation'].fillna(\n",
    "    df['Academic Reputation'].mean)\n",
    "df['Employer Reputation'] = df['Employer Reputation'].fillna(\n",
    "    df['Employer Reputation'].mean)\n"
   ]
  },
  {
   "cell_type": "markdown",
   "metadata": {},
   "source": [
    "## Faculty\n",
    "\n",
    "Para estos campos usaremos la mediana\n"
   ]
  },
  {
   "cell_type": "code",
   "execution_count": null,
   "metadata": {},
   "outputs": [],
   "source": [
    "df['Faculty Student'] = df['Faculty Student'].fillna(\n",
    "    df['Faculty Student'].median)\n",
    "df['Citations per Faculty'] = df['Citations per Faculty'].fillna(\n",
    "    df['Citations per Faculty'].median)\n",
    "df['International Faculty'] = df['International Faculty'].fillna(\n",
    "    df['International Faculty'].median)\n",
    "df['International Faculty'] = df['International Faculty'].fillna(\n",
    "    df['International Faculty'].median)\n",
    "df['International Students'] = df['International Students'].fillna(\n",
    "    df['International Students'].median)\n"
   ]
  },
  {
   "cell_type": "markdown",
   "metadata": {},
   "source": [
    "## Overall score\n",
    "\n",
    "Este es un poco mas complicado pero usare la media"
   ]
  },
  {
   "cell_type": "code",
   "execution_count": null,
   "metadata": {},
   "outputs": [],
   "source": [
    "df['Overall Score'] = df['Overall Score'].fillna(df['Overall Score'].mean)\n"
   ]
  }
 ],
 "metadata": {
  "interpreter": {
   "hash": "7f2fb5054ba0ce0c884899d2ba4a497eb862025f3286037962041267a704989d"
  },
  "kernelspec": {
   "display_name": "Python 3.10.2 ('rankings')",
   "language": "python",
   "name": "python3"
  },
  "language_info": {
   "codemirror_mode": {
    "name": "ipython",
    "version": 3
   },
   "file_extension": ".py",
   "mimetype": "text/x-python",
   "name": "python",
   "nbconvert_exporter": "python",
   "pygments_lexer": "ipython3",
   "version": "3.10.2"
  },
  "orig_nbformat": 4
 },
 "nbformat": 4,
 "nbformat_minor": 2
}
