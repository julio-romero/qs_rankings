{
 "cells": [
  {
   "cell_type": "markdown",
   "id": "a533e183-83f7-4fba-b54b-c5319f7ef090",
   "metadata": {},
   "source": [
    "# Preparacion de los datos\n",
    "\n",
    "En esta seccion realizaremos la lectura del Excel, asi como su limpieza y de la creacion del dataframe con el que trabajaremos"
   ]
  },
  {
   "cell_type": "code",
   "execution_count": null,
   "id": "e5d9cb9d-4bb3-4205-ab52-c5ee2b0bf3bc",
   "metadata": {},
   "outputs": [],
   "source": [
    "import pandas as pd\n",
    "import matplotlib.pyplot as plt\n",
    "from sklearn.model_selection import train_test_split\n",
    "from sklearn.linear_model import LinearRegression\n",
    "import seaborn as sns\n",
    "import numpy as np"
   ]
  },
  {
   "cell_type": "markdown",
   "id": "c0523524-ec7b-4a22-9111-ddff410a0add",
   "metadata": {},
   "source": [
    "Definiremos una funcion para la **lectura** "
   ]
  },
  {
   "cell_type": "code",
   "execution_count": null,
   "id": "0a5144b6-a428-4aac-b1a8-ec943c87cef0",
   "metadata": {},
   "outputs": [],
   "source": [
    "def lectura(path, limit = 250):\n",
    "    '''\n",
    "    Parameters\n",
    "    \n",
    "    path La ruta del archivo excel\n",
    "    limit Hasta que universidad tomara\n",
    "    \n",
    "    Returns\n",
    "    \n",
    "    Un dataframe con todos los años\n",
    "    \n",
    "    '''\n",
    "    df_raw = pd.DataFrame()\n",
    "    for i in range(2011,2022):\n",
    "        try:\n",
    "            df_raw = pd.concat([df_raw, pd.read_excel(path,sheet_name=str(i)).head(limit)])\n",
    "        except FileNotFoundError:\n",
    "            print('Archivo no encontrado')\n",
    "            return None\n",
    "    return df_raw\n",
    "        \n",
    "    "
   ]
  },
  {
   "cell_type": "markdown",
   "id": "18f85349-f0ef-4326-8ba5-e481d0dd6616",
   "metadata": {},
   "source": [
    "Y una para **limpieza**"
   ]
  },
  {
   "cell_type": "code",
   "execution_count": null,
   "id": "82fdad6c-a006-4741-a658-682b643fdb22",
   "metadata": {},
   "outputs": [],
   "source": [
    "def leer(path,limite = 250):\n",
    "    '''\n",
    "    Parameters\n",
    "    \n",
    "    path La ruta del archivo excel\n",
    "    limite Hasta que universidad tomara\n",
    "    \n",
    "    Returns\n",
    "    \n",
    "    Un dataframe limpio\n",
    "    \n",
    "    '''\n",
    "    df = lectura(path,limite)\n",
    "\n",
    "    try:\n",
    "        # Limpiar los rangos\n",
    "        df['Rank'] = df['Rank'].fillna(method='ffill')\n",
    "        df['O_Rank'] = pd.to_numeric(df['O_Rank'],errors = 'coerce')\n",
    "        df['O_Rank'] = df['O_Rank'].fillna(method='ffill')\n",
    "        df['AR Rank'] = pd.to_numeric(df['AR Rank'],errors = 'coerce')\n",
    "        df['AR Rank'] = df['AR Rank'].fillna(method='ffill')\n",
    "        df['ER Rank'] = pd.to_numeric(df['ER Rank'],errors = 'coerce')\n",
    "        df['ER Rank'] = df['ER Rank'].fillna(method='ffill')\n",
    "        df['FS Rank'] = df['FS Rank'].fillna(method='ffill')\n",
    "        df['CF Rank'] = df['CF Rank'].fillna(method='ffill')\n",
    "        df['IF Rank'] = df['IF Rank'].fillna(method='ffill')\n",
    "        df['IS Rank'] = df['IS Rank'].fillna(method='ffill')\n",
    "        # Limpiar las reputaciones\n",
    "        df['Academic Reputation'] = df['Academic Reputation'].fillna(\n",
    "            df['Academic Reputation'].mean)\n",
    "        df['Employer Reputation'] = pd.to_numeric(df['Employer Reputation'],errors = 'coerce')\n",
    "        df['Employer Reputation'] = df['Employer Reputation'].fillna(\n",
    "            df['Employer Reputation'].mean())\n",
    "        # Limpiar faculty\n",
    "        df['Faculty Student'] = pd.to_numeric(df['Faculty Student'],errors = 'coerce')\n",
    "        df['Faculty Student'] = df['Faculty Student'].fillna(\n",
    "            df['Faculty Student'].median())\n",
    "        df['Citations per Faculty'] = df['Citations per Faculty'].fillna(\n",
    "            df['Citations per Faculty'].median())\n",
    "        df['International Students'] = df['International Students'].fillna(\n",
    "            df['International Students'].median())\n",
    "        df['International Faculty'] = pd.to_numeric(df['International Faculty'],errors = 'coerce')\n",
    "        df['International Faculty'] = df['International Faculty'].fillna(\n",
    "        df['International Faculty'].median())\n",
    "        # Limpiar el overall\n",
    "        df['Overall Score'] = df['Overall Score'].fillna(df['Overall Score'].mean())\n",
    "        df = df.replace('601+', int(601))\n",
    "    except TypeError:\n",
    "        print('Error en la lectura')\n",
    "        return None\n",
    "    return df\n",
    "    "
   ]
  },
  {
   "cell_type": "markdown",
   "id": "1b252f32-c852-4a2e-afab-112b7b175adb",
   "metadata": {},
   "source": [
    "Finalmente guardamos el Dataframe"
   ]
  },
  {
   "cell_type": "code",
   "execution_count": null,
   "id": "2f7d92d3-8c77-40ec-a637-f63cf4d67da8",
   "metadata": {},
   "outputs": [],
   "source": [
    "df = leer('../data/raw/QS WUR 2011-2022.xlsx',400)"
   ]
  },
  {
   "cell_type": "code",
   "execution_count": null,
   "id": "a4418305-8650-41b2-9185-5224278880ef",
   "metadata": {},
   "outputs": [],
   "source": [
    "df.shape"
   ]
  },
  {
   "cell_type": "code",
   "execution_count": null,
   "id": "04269e7b-d85d-4ca5-aeea-b204e4037a97",
   "metadata": {},
   "outputs": [],
   "source": [
    "df.isna().sum()"
   ]
  },
  {
   "cell_type": "markdown",
   "id": "ec33ad46-9aef-4226-8df1-78c3ce284f35",
   "metadata": {
    "tags": []
   },
   "source": [
    "# Modelacion\n",
    "\n",
    "En esta etapa analizaremos los datos, principalmente 3 analisis\n",
    "\n",
    "* Regresion lineal multiple, para predecir la importancia de cada Categoria en el *Overall Score*\n",
    "* Regresion lineal simple, con el Tec para predecir su posicion en los rankings el proximo año\n",
    "* Importancia de cada **Rank** "
   ]
  },
  {
   "cell_type": "markdown",
   "id": "07111c2e-8230-4f7a-8d2e-9f7b07c5fb2c",
   "metadata": {
    "tags": []
   },
   "source": [
    "## Regresion lineal multiple\n",
    "\n",
    "Empezaremos escogiendo las columnas mas importantes, despues separemos los datos en entrenamiento y prueba, para finalmente conseguir el modelo"
   ]
  },
  {
   "cell_type": "code",
   "execution_count": null,
   "id": "28774f6b-d0da-40ce-ab91-e24ef47e8963",
   "metadata": {},
   "outputs": [],
   "source": [
    "df.columns\n",
    "ranks = ['Rank','O_Rank','AR Rank', 'ER Rank',\n",
    "       'FS Rank', 'CF Rank', \n",
    "       'IF Rank','IS Rank']"
   ]
  },
  {
   "cell_type": "markdown",
   "id": "ca3ab1f1-c06c-4092-8149-059da7b1f0d0",
   "metadata": {},
   "source": [
    "Para visualizar la correlacion de cada variable usaremos un **heatmap**"
   ]
  },
  {
   "cell_type": "code",
   "execution_count": null,
   "id": "df8237ef-45c0-417f-8a94-64ec4dcbbca1",
   "metadata": {},
   "outputs": [],
   "source": [
    "sns.heatmap(data=df.corr())\n",
    "plt.show()"
   ]
  },
  {
   "cell_type": "code",
   "execution_count": null,
   "id": "fc6630b5-d436-483a-af34-35d3dceea38f",
   "metadata": {},
   "outputs": [],
   "source": [
    "columnas = ['Academic Reputation','Employer Reputation','Faculty Student',\n",
    "            'Citations per Faculty','International Faculty','International Students']"
   ]
  },
  {
   "cell_type": "code",
   "execution_count": null,
   "id": "6e7af68c-df8e-486c-8179-473d9c72d854",
   "metadata": {},
   "outputs": [],
   "source": [
    "X = df[columnas].values\n",
    "\n",
    "Y = df['Overall Score'].values\n"
   ]
  },
  {
   "cell_type": "markdown",
   "id": "3dcb62aa-4380-4876-b7eb-df6af0cb55d4",
   "metadata": {},
   "source": [
    "Para evitar _overfitting_ separamos los datos en 80% para entrenamiento y 20% para test"
   ]
  },
  {
   "cell_type": "code",
   "execution_count": null,
   "id": "272e9e7d-0d54-462c-aa7a-00c9287e3dc7",
   "metadata": {},
   "outputs": [],
   "source": [
    "X_train, X_test, Y_train, Y_test = train_test_split(\n",
    "    X, Y, test_size=0.2, random_state=0)\n"
   ]
  },
  {
   "cell_type": "markdown",
   "id": "dcb221e1-87e0-4019-b670-6b2c49448b09",
   "metadata": {},
   "source": [
    "Aplicamos el modelo de regresion lineal con los datos de entrenamiento"
   ]
  },
  {
   "cell_type": "code",
   "execution_count": null,
   "id": "958b8af8-29d6-4259-a72c-987b72ecb5d3",
   "metadata": {},
   "outputs": [],
   "source": [
    "modelo = LinearRegression()\n"
   ]
  },
  {
   "cell_type": "code",
   "execution_count": null,
   "id": "0dd9f99d-d5ef-47fa-9399-b1cb58bfcb35",
   "metadata": {},
   "outputs": [],
   "source": [
    "modelo.fit(X_train, Y_train)\n"
   ]
  },
  {
   "cell_type": "code",
   "execution_count": null,
   "id": "b83c64cf-d9bd-4f90-a4a4-21f18266ae19",
   "metadata": {},
   "outputs": [],
   "source": [
    "coeff = pd.DataFrame(modelo.coef_, columnas, columns=['Coeffs'])\n"
   ]
  },
  {
   "cell_type": "code",
   "execution_count": null,
   "id": "d4a39e8e-bdd1-4530-81c8-849190237225",
   "metadata": {},
   "outputs": [],
   "source": [
    "coeff\n"
   ]
  },
  {
   "cell_type": "markdown",
   "id": "3135e7e1-38e5-4cca-b5cc-93321f2ed8dc",
   "metadata": {},
   "source": [
    "La variable *Y_pred* sera la y que el modelo predecira usando los datos de test o sea el 20%"
   ]
  },
  {
   "cell_type": "code",
   "execution_count": null,
   "id": "762187ba-46b9-447c-8698-e26f3a762d2c",
   "metadata": {},
   "outputs": [],
   "source": [
    "Y_pred = modelo.predict(X_test)\n"
   ]
  },
  {
   "cell_type": "markdown",
   "id": "cfdcfe40-3f8f-4775-bdd2-35d0bcd15441",
   "metadata": {},
   "source": [
    "Para la validacion se calculara la diferencia entre la _y_ de prueba y la _y_ predecida"
   ]
  },
  {
   "cell_type": "code",
   "execution_count": null,
   "id": "df39550b-a363-4e03-8763-40556627c9bd",
   "metadata": {},
   "outputs": [],
   "source": [
    "validacion = pd.DataFrame(\n",
    "    {\"Actual\": Y_test, \"Prediccion\": Y_pred, \"Diferencia\": Y_test-Y_pred})\n"
   ]
  },
  {
   "cell_type": "markdown",
   "id": "4c125f0c-b23e-4c59-b024-193725d353e9",
   "metadata": {},
   "source": [
    "Tomamos una muestra de la validacion para hacer nuestros plot"
   ]
  },
  {
   "cell_type": "code",
   "execution_count": null,
   "id": "922f89e6-19ee-49f7-838c-8aa4761eb8cf",
   "metadata": {},
   "outputs": [],
   "source": [
    "validacion\n",
    "muestra = validacion.sample(30)\n"
   ]
  },
  {
   "cell_type": "markdown",
   "id": "87f93672-ffc0-4280-8b80-36d1946accf0",
   "metadata": {},
   "source": [
    "Adicionalmente calculamos el $R^2$"
   ]
  },
  {
   "cell_type": "code",
   "execution_count": null,
   "id": "ae9caaab-e06a-49a4-8a4c-46542d25f966",
   "metadata": {},
   "outputs": [],
   "source": [
    "r2_train = modelo.score(X_train, Y_train)\n",
    "r2_test = modelo.score(X_test, Y_test)\n",
    "print(f\"R2 del entrenamiento: {r2_train:.4f}\\nR2 del test: {r2_test:.4f}\")\n"
   ]
  },
  {
   "cell_type": "markdown",
   "id": "aaf7e6dd-cea8-4f57-8997-21088829b346",
   "metadata": {},
   "source": [
    "Finalmente hacemos este plot, el cual nos muestra una buena precision del modelo"
   ]
  },
  {
   "cell_type": "code",
   "execution_count": null,
   "id": "60d5d0d5-0287-41ac-ad04-6f0b1868b90e",
   "metadata": {},
   "outputs": [],
   "source": [
    "muestra.plot.bar()\n",
    "plt.show()"
   ]
  },
  {
   "cell_type": "code",
   "execution_count": null,
   "id": "f9e876ee-4c10-499a-908e-5f3620c838c6",
   "metadata": {},
   "outputs": [],
   "source": [
    "coeffs = abs(coeff.sort_values(by='Coeffs',ascending=False))\n",
    "coeffs.plot.bar(figsize=(10,10),color='green')\n",
    "plt.grid()\n",
    "plt.show()"
   ]
  },
  {
   "cell_type": "markdown",
   "id": "71dc442c-ec2f-4249-86dd-3954a8f4e072",
   "metadata": {
    "tags": []
   },
   "source": [
    "### Puntos destacables\n",
    "\n",
    "1. Las citas por escuela son mas importantesque la reputacion del empleador, el Tec suele ser reconocida por empleadores pero no es un rubro tan importante al parecer\n",
    "2. La reputacion academica es casi la mitad del score\n",
    "3. La parte internacional no parece ser tan importante"
   ]
  },
  {
   "cell_type": "markdown",
   "id": "0d60685a-ed2c-4328-9083-f24b8cb59478",
   "metadata": {
    "tags": []
   },
   "source": [
    "## Prediccion 2022 del tec"
   ]
  },
  {
   "cell_type": "code",
   "execution_count": null,
   "id": "40518cd7-d0e9-4442-b20b-45cbf883feca",
   "metadata": {},
   "outputs": [],
   "source": [
    "df_tec = df[df['Institution '] == 'Tecnológico de Monterrey (ITESM)']"
   ]
  },
  {
   "cell_type": "code",
   "execution_count": null,
   "id": "5841a96c-d095-43f3-a87a-7abd9a0296ae",
   "metadata": {},
   "outputs": [],
   "source": [
    "df_tec.shape"
   ]
  },
  {
   "cell_type": "code",
   "execution_count": null,
   "id": "3f9cdc62-fae8-42c0-bf7b-c468ebd5b087",
   "metadata": {},
   "outputs": [],
   "source": [
    "nuevo = [2022,np.nan,np.nan,'Tecnológico de Monterrey (ITESM)',np.nan,np.nan,np.nan,np.nan,np.nan,np.nan,np.nan,np.nan,np.nan,np.nan,np.nan,np.nan,0]\n",
    "nuevo = pd.Series(nuevo,index=df_tec.columns)"
   ]
  },
  {
   "cell_type": "code",
   "execution_count": null,
   "id": "412fb376-5ced-4da4-8b40-d72bf7ba81f6",
   "metadata": {},
   "outputs": [],
   "source": [
    "df_tec = df_tec.append(nuevo, ignore_index=True)"
   ]
  },
  {
   "cell_type": "code",
   "execution_count": null,
   "id": "940a5055-708d-4940-8874-deda81a5ae92",
   "metadata": {},
   "outputs": [],
   "source": [
    "df_tec = df_tec.interpolate()"
   ]
  },
  {
   "cell_type": "code",
   "execution_count": null,
   "id": "53fcfd5e-3eea-486d-9286-b331223b85bb",
   "metadata": {},
   "outputs": [],
   "source": [
    "df_tec"
   ]
  },
  {
   "cell_type": "code",
   "execution_count": null,
   "id": "924e9790-03b9-4a80-904e-3795deb6ab7e",
   "metadata": {},
   "outputs": [],
   "source": [
    "df_tec[columnas].loc[5]"
   ]
  },
  {
   "cell_type": "code",
   "execution_count": null,
   "id": "f9762883-b077-477c-a763-178739aadd35",
   "metadata": {},
   "outputs": [],
   "source": [
    "modelo.predict([df_tec[columnas].loc[5]])"
   ]
  },
  {
   "cell_type": "markdown",
   "id": "92128089-a372-4e85-b03e-0c82bb412f39",
   "metadata": {},
   "source": [
    "Siguiendo el modelo, al tec le esperaria un score de **48.7**"
   ]
  },
  {
   "cell_type": "code",
   "execution_count": null,
   "id": "22de841a-0232-4ba4-88e9-e7aa0d08824f",
   "metadata": {},
   "outputs": [],
   "source": [
    "df_2021 = df[df['Year']==2021]"
   ]
  },
  {
   "cell_type": "code",
   "execution_count": null,
   "id": "83ca14f3-061f-486d-b6a8-ce5398d4a36e",
   "metadata": {},
   "outputs": [],
   "source": [
    "df_2021[df_2021['Overall Score']<50]"
   ]
  },
  {
   "cell_type": "markdown",
   "id": "e3493b0b-6f92-4fc1-a360-2d1d4e407c4b",
   "metadata": {},
   "source": [
    "Si las condiciones siguen iguales, puede que el tec suba a la posicion **157**"
   ]
  },
  {
   "cell_type": "markdown",
   "id": "21e0ab73-9ea9-4ebe-a425-e269ee36d41e",
   "metadata": {},
   "source": [
    "## Importancia de cada rank\n",
    "\n",
    "Nuevamente una regresion multiple para calcular la importancia de cada rank en el rank final"
   ]
  },
  {
   "cell_type": "code",
   "execution_count": null,
   "id": "9dd4b8e1-9071-4540-8e62-1c4b656b7e7a",
   "metadata": {},
   "outputs": [],
   "source": [
    "ranks = ['AR Rank', 'ER Rank',\n",
    "       'FS Rank', 'CF Rank', \n",
    "       'IF Rank','IS Rank']"
   ]
  },
  {
   "cell_type": "code",
   "execution_count": null,
   "id": "4b99cb28-3fa9-4aa7-a6de-e56900e25103",
   "metadata": {},
   "outputs": [],
   "source": [
    "X =  df[ranks].values"
   ]
  },
  {
   "cell_type": "code",
   "execution_count": null,
   "id": "3511b8a4-e810-4790-a996-582f71cd979a",
   "metadata": {},
   "outputs": [],
   "source": [
    "Y = df['Overall Score'].values"
   ]
  },
  {
   "cell_type": "markdown",
   "id": "5550ea03-7d87-4702-9962-16b354ed154f",
   "metadata": {},
   "source": [
    "Para evitar _overfitting_ separamos los datos en 80% para entrenamiento y 20% para test"
   ]
  },
  {
   "cell_type": "code",
   "execution_count": null,
   "id": "421e10da-2348-413a-8b21-526241c66fb2",
   "metadata": {},
   "outputs": [],
   "source": [
    "X_train, X_test, Y_train, Y_test = train_test_split(\n",
    "    X, Y, test_size=0.2, random_state=0)\n"
   ]
  },
  {
   "cell_type": "markdown",
   "id": "fda90163-080d-486f-9f32-54a2bb9bd16b",
   "metadata": {},
   "source": [
    "Aplicamos el modelo de regresion lineal con los datos de entrenamiento"
   ]
  },
  {
   "cell_type": "code",
   "execution_count": null,
   "id": "34d5630b-8b14-4894-b54d-7e77fdd115fc",
   "metadata": {},
   "outputs": [],
   "source": [
    "modelo = LinearRegression()\n"
   ]
  },
  {
   "cell_type": "code",
   "execution_count": null,
   "id": "b2bfbbed-68ef-45e1-b71f-03e933edbf4f",
   "metadata": {},
   "outputs": [],
   "source": [
    "modelo.fit(X_train, Y_train)\n"
   ]
  },
  {
   "cell_type": "code",
   "execution_count": null,
   "id": "e6cbc48e-f77e-483c-9fbc-0287f1e069be",
   "metadata": {},
   "outputs": [],
   "source": [
    "coeff = pd.DataFrame(modelo.coef_, ranks, columns=['Coeffs'])\n"
   ]
  },
  {
   "cell_type": "code",
   "execution_count": null,
   "id": "aa9f8bba-5c66-4d7c-a172-9211a2213e3c",
   "metadata": {},
   "outputs": [],
   "source": [
    "coeff\n"
   ]
  },
  {
   "cell_type": "code",
   "execution_count": null,
   "id": "e93cfc97-55c0-420e-8e88-5fa5b76395ef",
   "metadata": {},
   "outputs": [],
   "source": [
    "r2_train = modelo.score(X_train, Y_train)\n",
    "r2_test = modelo.score(X_test, Y_test)\n",
    "print(f\"R2 del entrenamiento: {r2_train:.4f}\\nR2 del test: {r2_test:.4f}\")\n"
   ]
  },
  {
   "cell_type": "code",
   "execution_count": null,
   "id": "6736bdbf-ff36-4a6f-bf0b-8240ab3d69a9",
   "metadata": {},
   "outputs": [],
   "source": [
    "coeffs = abs(coeff.sort_values(by='Coeffs',ascending=True))\n",
    "coeffs.plot.bar(figsize=(10,10),color='red')\n",
    "plt.grid()\n",
    "plt.show()"
   ]
  },
  {
   "cell_type": "markdown",
   "id": "488b2763-1b53-4ab3-ad01-b9008fc99cb5",
   "metadata": {},
   "source": [
    "### Puntos destacables\n",
    "\n",
    "1. Usando esta metrica, el rubro Faculty Student es mas importante que el Citations per Faculty"
   ]
  },
  {
   "cell_type": "code",
   "execution_count": null,
   "id": "e88f3f29-b307-4c78-874e-85d944ed3de7",
   "metadata": {},
   "outputs": [],
   "source": []
  }
 ],
 "metadata": {
  "kernelspec": {
   "display_name": "Python 3.9.7 ('base')",
   "language": "python",
   "name": "python397jvsc74a57bd0f825100c0097c5fea12a45c8961253fb783babe2ed828990c4dd80cc91ae34f2"
  },
  "language_info": {
   "codemirror_mode": {
    "name": "ipython",
    "version": 3
   },
   "file_extension": ".py",
   "mimetype": "text/x-python",
   "name": "python",
   "nbconvert_exporter": "python",
   "pygments_lexer": "ipython3",
   "version": "3.9.7"
  }
 },
 "nbformat": 4,
 "nbformat_minor": 5
}
