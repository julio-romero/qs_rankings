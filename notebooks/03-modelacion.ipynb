{
 "cells": [
  {
   "cell_type": "markdown",
   "metadata": {},
   "source": [
    "# Aplicando el modelo\n",
    "\n",
    "## Imports\n",
    "\n",
    "* Usaremos pandas para el manejo del dataframe\n",
    "* Usaremos matplotlib para una pequeña viz\n",
    "* Para el modelo usaremos sklearn"
   ]
  },
  {
   "cell_type": "code",
   "execution_count": 1,
   "metadata": {},
   "outputs": [],
   "source": [
    "import pandas as pd\n",
    "import matplotlib.pyplot as plt\n",
    "from sklearn.model_selection import train_test_split\n",
    "from sklearn.linear_model import LinearRegression\n",
    "import seaborn as sns\n"
   ]
  },
  {
   "cell_type": "code",
   "execution_count": 2,
   "metadata": {},
   "outputs": [],
   "source": [
    "# Ojo con el path, cambiar si es necesario\n",
    "df = pd.read_csv('../data/processed/qs_wur.csv')\n",
    "df = df.drop(columns=['Unnamed: 0'])"
   ]
  },
  {
   "cell_type": "code",
   "execution_count": 3,
   "metadata": {},
   "outputs": [
    {
     "data": {
      "text/html": [
       "<div>\n",
       "<style scoped>\n",
       "    .dataframe tbody tr th:only-of-type {\n",
       "        vertical-align: middle;\n",
       "    }\n",
       "\n",
       "    .dataframe tbody tr th {\n",
       "        vertical-align: top;\n",
       "    }\n",
       "\n",
       "    .dataframe thead th {\n",
       "        text-align: right;\n",
       "    }\n",
       "</style>\n",
       "<table border=\"1\" class=\"dataframe\">\n",
       "  <thead>\n",
       "    <tr style=\"text-align: right;\">\n",
       "      <th></th>\n",
       "      <th>Year</th>\n",
       "      <th>Rank</th>\n",
       "      <th>O_Rank</th>\n",
       "      <th>Institution</th>\n",
       "      <th>Academic Reputation</th>\n",
       "      <th>AR Rank</th>\n",
       "      <th>Employer Reputation</th>\n",
       "      <th>ER Rank</th>\n",
       "      <th>Faculty Student</th>\n",
       "      <th>FS Rank</th>\n",
       "      <th>Citations per Faculty</th>\n",
       "      <th>CF Rank</th>\n",
       "      <th>International Faculty</th>\n",
       "      <th>IF Rank</th>\n",
       "      <th>International Students</th>\n",
       "      <th>IS Rank</th>\n",
       "      <th>Overall Score</th>\n",
       "    </tr>\n",
       "  </thead>\n",
       "  <tbody>\n",
       "    <tr>\n",
       "      <th>676</th>\n",
       "      <td>2017.0</td>\n",
       "      <td>77.0</td>\n",
       "      <td>77.0</td>\n",
       "      <td>University Of St Andrews</td>\n",
       "      <td>54.3</td>\n",
       "      <td>172.0</td>\n",
       "      <td>58.4</td>\n",
       "      <td>167.0</td>\n",
       "      <td>73.0</td>\n",
       "      <td>149.0</td>\n",
       "      <td>79.2</td>\n",
       "      <td>82.0</td>\n",
       "      <td>98.2</td>\n",
       "      <td>77.0</td>\n",
       "      <td>99.9</td>\n",
       "      <td>20.0</td>\n",
       "      <td>68.20</td>\n",
       "    </tr>\n",
       "    <tr>\n",
       "      <th>673</th>\n",
       "      <td>2017.0</td>\n",
       "      <td>74.0</td>\n",
       "      <td>74.0</td>\n",
       "      <td>Durham University</td>\n",
       "      <td>64.9</td>\n",
       "      <td>130.0</td>\n",
       "      <td>95.7</td>\n",
       "      <td>39.0</td>\n",
       "      <td>30.7</td>\n",
       "      <td>401.0</td>\n",
       "      <td>89.5</td>\n",
       "      <td>43.0</td>\n",
       "      <td>94.0</td>\n",
       "      <td>123.0</td>\n",
       "      <td>87.6</td>\n",
       "      <td>113.0</td>\n",
       "      <td>68.80</td>\n",
       "    </tr>\n",
       "    <tr>\n",
       "      <th>900</th>\n",
       "      <td>2020.0</td>\n",
       "      <td>158.0</td>\n",
       "      <td>158.0</td>\n",
       "      <td>Tecnológico de Monterrey (ITESM)</td>\n",
       "      <td>36.9</td>\n",
       "      <td>226.0</td>\n",
       "      <td>88.9</td>\n",
       "      <td>53.0</td>\n",
       "      <td>89.5</td>\n",
       "      <td>82.0</td>\n",
       "      <td>4.6</td>\n",
       "      <td>601.0</td>\n",
       "      <td>98.2</td>\n",
       "      <td>98.0</td>\n",
       "      <td>18.4</td>\n",
       "      <td>549.0</td>\n",
       "      <td>48.50</td>\n",
       "    </tr>\n",
       "    <tr>\n",
       "      <th>860</th>\n",
       "      <td>2019.0</td>\n",
       "      <td>31.0</td>\n",
       "      <td>31.0</td>\n",
       "      <td>King's College London (KCL)</td>\n",
       "      <td>87.7</td>\n",
       "      <td>47.0</td>\n",
       "      <td>83.2</td>\n",
       "      <td>65.0</td>\n",
       "      <td>85.1</td>\n",
       "      <td>118.0</td>\n",
       "      <td>59.9</td>\n",
       "      <td>159.0</td>\n",
       "      <td>98.6</td>\n",
       "      <td>86.0</td>\n",
       "      <td>99.7</td>\n",
       "      <td>31.0</td>\n",
       "      <td>82.50</td>\n",
       "    </tr>\n",
       "    <tr>\n",
       "      <th>212</th>\n",
       "      <td>2013.0</td>\n",
       "      <td>13.0</td>\n",
       "      <td>13.0</td>\n",
       "      <td>ETH Zurich (Swiss Federal Institute Of Technol...</td>\n",
       "      <td>99.3</td>\n",
       "      <td>25.0</td>\n",
       "      <td>94.0</td>\n",
       "      <td>36.0</td>\n",
       "      <td>67.0</td>\n",
       "      <td>154.0</td>\n",
       "      <td>97.2</td>\n",
       "      <td>28.0</td>\n",
       "      <td>100.0</td>\n",
       "      <td>6.0</td>\n",
       "      <td>98.7</td>\n",
       "      <td>23.0</td>\n",
       "      <td>92.84</td>\n",
       "    </tr>\n",
       "    <tr>\n",
       "      <th>1</th>\n",
       "      <td>2011.0</td>\n",
       "      <td>2.0</td>\n",
       "      <td>2.0</td>\n",
       "      <td>Harvard University</td>\n",
       "      <td>100.0</td>\n",
       "      <td>2.0</td>\n",
       "      <td>100.0</td>\n",
       "      <td>1.0</td>\n",
       "      <td>97.0</td>\n",
       "      <td>40.0</td>\n",
       "      <td>100.0</td>\n",
       "      <td>3.0</td>\n",
       "      <td>71.0</td>\n",
       "      <td>125.0</td>\n",
       "      <td>87.0</td>\n",
       "      <td>70.0</td>\n",
       "      <td>99.20</td>\n",
       "    </tr>\n",
       "    <tr>\n",
       "      <th>662</th>\n",
       "      <td>2017.0</td>\n",
       "      <td>63.0</td>\n",
       "      <td>63.0</td>\n",
       "      <td>Osaka University</td>\n",
       "      <td>88.6</td>\n",
       "      <td>62.0</td>\n",
       "      <td>68.2</td>\n",
       "      <td>124.0</td>\n",
       "      <td>83.1</td>\n",
       "      <td>105.0</td>\n",
       "      <td>57.0</td>\n",
       "      <td>180.0</td>\n",
       "      <td>15.1</td>\n",
       "      <td>401.0</td>\n",
       "      <td>15.8</td>\n",
       "      <td>401.0</td>\n",
       "      <td>71.70</td>\n",
       "    </tr>\n",
       "    <tr>\n",
       "      <th>686</th>\n",
       "      <td>2017.0</td>\n",
       "      <td>87.0</td>\n",
       "      <td>87.0</td>\n",
       "      <td>University Of Southampton</td>\n",
       "      <td>63.3</td>\n",
       "      <td>138.0</td>\n",
       "      <td>48.2</td>\n",
       "      <td>237.0</td>\n",
       "      <td>72.8</td>\n",
       "      <td>151.0</td>\n",
       "      <td>56.2</td>\n",
       "      <td>189.0</td>\n",
       "      <td>93.3</td>\n",
       "      <td>125.0</td>\n",
       "      <td>96.0</td>\n",
       "      <td>72.0</td>\n",
       "      <td>65.60</td>\n",
       "    </tr>\n",
       "    <tr>\n",
       "      <th>640</th>\n",
       "      <td>2017.0</td>\n",
       "      <td>41.0</td>\n",
       "      <td>41.0</td>\n",
       "      <td>University Of Bristol</td>\n",
       "      <td>85.5</td>\n",
       "      <td>66.0</td>\n",
       "      <td>94.8</td>\n",
       "      <td>43.0</td>\n",
       "      <td>73.8</td>\n",
       "      <td>145.0</td>\n",
       "      <td>62.7</td>\n",
       "      <td>148.0</td>\n",
       "      <td>88.8</td>\n",
       "      <td>150.0</td>\n",
       "      <td>82.4</td>\n",
       "      <td>136.0</td>\n",
       "      <td>79.60</td>\n",
       "    </tr>\n",
       "    <tr>\n",
       "      <th>197</th>\n",
       "      <td>2012.0</td>\n",
       "      <td>98.0</td>\n",
       "      <td>98.0</td>\n",
       "      <td>Pohang University of Science and Technology (P...</td>\n",
       "      <td>55.8</td>\n",
       "      <td>177.0</td>\n",
       "      <td>17.3</td>\n",
       "      <td>257.0</td>\n",
       "      <td>97.7</td>\n",
       "      <td>41.0</td>\n",
       "      <td>80.9</td>\n",
       "      <td>69.0</td>\n",
       "      <td>69.9</td>\n",
       "      <td>159.0</td>\n",
       "      <td>11.5</td>\n",
       "      <td>301.0</td>\n",
       "      <td>65.10</td>\n",
       "    </tr>\n",
       "  </tbody>\n",
       "</table>\n",
       "</div>"
      ],
      "text/plain": [
       "       Year   Rank O_Rank                                       Institution   \\\n",
       "676  2017.0   77.0   77.0                           University Of St Andrews   \n",
       "673  2017.0   74.0   74.0                                  Durham University   \n",
       "900  2020.0  158.0  158.0                   Tecnológico de Monterrey (ITESM)   \n",
       "860  2019.0   31.0   31.0                        King's College London (KCL)   \n",
       "212  2013.0   13.0   13.0  ETH Zurich (Swiss Federal Institute Of Technol...   \n",
       "1    2011.0    2.0    2.0                                 Harvard University   \n",
       "662  2017.0   63.0   63.0                                   Osaka University   \n",
       "686  2017.0   87.0   87.0                          University Of Southampton   \n",
       "640  2017.0   41.0   41.0                              University Of Bristol   \n",
       "197  2012.0   98.0   98.0  Pohang University of Science and Technology (P...   \n",
       "\n",
       "     Academic Reputation  AR Rank  Employer Reputation  ER Rank  \\\n",
       "676                 54.3    172.0                 58.4    167.0   \n",
       "673                 64.9    130.0                 95.7     39.0   \n",
       "900                 36.9    226.0                 88.9     53.0   \n",
       "860                 87.7     47.0                 83.2     65.0   \n",
       "212                 99.3     25.0                 94.0     36.0   \n",
       "1                  100.0      2.0                100.0      1.0   \n",
       "662                 88.6     62.0                 68.2    124.0   \n",
       "686                 63.3    138.0                 48.2    237.0   \n",
       "640                 85.5     66.0                 94.8     43.0   \n",
       "197                 55.8    177.0                 17.3    257.0   \n",
       "\n",
       "     Faculty Student  FS Rank  Citations per Faculty  CF Rank  \\\n",
       "676             73.0    149.0                   79.2     82.0   \n",
       "673             30.7    401.0                   89.5     43.0   \n",
       "900             89.5     82.0                    4.6    601.0   \n",
       "860             85.1    118.0                   59.9    159.0   \n",
       "212             67.0    154.0                   97.2     28.0   \n",
       "1               97.0     40.0                  100.0      3.0   \n",
       "662             83.1    105.0                   57.0    180.0   \n",
       "686             72.8    151.0                   56.2    189.0   \n",
       "640             73.8    145.0                   62.7    148.0   \n",
       "197             97.7     41.0                   80.9     69.0   \n",
       "\n",
       "     International Faculty  IF Rank  International Students  IS Rank  \\\n",
       "676                   98.2     77.0                    99.9     20.0   \n",
       "673                   94.0    123.0                    87.6    113.0   \n",
       "900                   98.2     98.0                    18.4    549.0   \n",
       "860                   98.6     86.0                    99.7     31.0   \n",
       "212                  100.0      6.0                    98.7     23.0   \n",
       "1                     71.0    125.0                    87.0     70.0   \n",
       "662                   15.1    401.0                    15.8    401.0   \n",
       "686                   93.3    125.0                    96.0     72.0   \n",
       "640                   88.8    150.0                    82.4    136.0   \n",
       "197                   69.9    159.0                    11.5    301.0   \n",
       "\n",
       "     Overall Score  \n",
       "676          68.20  \n",
       "673          68.80  \n",
       "900          48.50  \n",
       "860          82.50  \n",
       "212          92.84  \n",
       "1            99.20  \n",
       "662          71.70  \n",
       "686          65.60  \n",
       "640          79.60  \n",
       "197          65.10  "
      ]
     },
     "execution_count": 3,
     "metadata": {},
     "output_type": "execute_result"
    }
   ],
   "source": [
    "df.sample(10)"
   ]
  },
  {
   "cell_type": "code",
   "execution_count": 4,
   "metadata": {},
   "outputs": [
    {
     "data": {
      "text/plain": [
       "<AxesSubplot:>"
      ]
     },
     "execution_count": 4,
     "metadata": {},
     "output_type": "execute_result"
    },
    {
     "data": {
      "image/png": "[encoded data removed]",
      "text/plain": [
       "<Figure size 432x288 with 2 Axes>"
      ]
     },
     "metadata": {
      "needs_background": "light"
     },
     "output_type": "display_data"
    }
   ],
   "source": [
    "sns.heatmap(data=df.corr())\n"
   ]
  },
  {
   "cell_type": "code",
   "execution_count": 5,
   "metadata": {},
   "outputs": [],
   "source": [
    "#sns.pairplot(data=df, hue='Year')\n"
   ]
  },
  {
   "cell_type": "markdown",
   "metadata": {},
   "source": [
    "## Definiendo nuestros predictores\n",
    "\n",
    "En este caso todas las caracteristicas seran los predictores, mientras que la variable a predecir sera _Overall Score_"
   ]
  },
  {
   "cell_type": "code",
   "execution_count": 6,
   "metadata": {},
   "outputs": [
    {
     "data": {
      "text/plain": [
       "Index(['Year', 'Rank', 'O_Rank', 'Institution ', 'Academic Reputation',\n",
       "       'AR Rank', 'Employer Reputation', 'ER Rank', 'Faculty Student',\n",
       "       'FS Rank', 'Citations per Faculty', 'CF Rank', 'International Faculty',\n",
       "       'IF Rank', 'International Students', 'IS Rank', 'Overall Score'],\n",
       "      dtype='object')"
      ]
     },
     "execution_count": 6,
     "metadata": {},
     "output_type": "execute_result"
    }
   ],
   "source": [
    "df.columns"
   ]
  },
  {
   "cell_type": "code",
   "execution_count": 7,
   "metadata": {},
   "outputs": [],
   "source": [
    "columnas = ['AR Rank', 'ER Rank', 'FS Rank','CF Rank', 'IF Rank', 'IS Rank']"
   ]
  },
  {
   "cell_type": "code",
   "execution_count": 8,
   "metadata": {},
   "outputs": [],
   "source": [
    "X = df[columnas].values\n",
    "\n",
    "Y = df['Overall Score'].values\n"
   ]
  },
  {
   "cell_type": "markdown",
   "metadata": {},
   "source": [
    "Para evitar _overfitting_ separamos los datos en 80% para entrenamiento y 20% para test"
   ]
  },
  {
   "cell_type": "code",
   "execution_count": 9,
   "metadata": {},
   "outputs": [],
   "source": [
    "X_train, X_test, Y_train, Y_test = train_test_split(\n",
    "    X, Y, test_size=0.2, random_state=0)\n"
   ]
  },
  {
   "cell_type": "markdown",
   "metadata": {},
   "source": [
    "Aplicamos el modelo de regresion lineal con los datos de entrenamiento"
   ]
  },
  {
   "cell_type": "code",
   "execution_count": 10,
   "metadata": {},
   "outputs": [],
   "source": [
    "modelo = LinearRegression()\n"
   ]
  },
  {
   "cell_type": "code",
   "execution_count": 11,
   "metadata": {},
   "outputs": [
    {
     "data": {
      "text/plain": [
       "LinearRegression()"
      ]
     },
     "execution_count": 11,
     "metadata": {},
     "output_type": "execute_result"
    }
   ],
   "source": [
    "modelo.fit(X_train, Y_train)\n"
   ]
  },
  {
   "cell_type": "markdown",
   "metadata": {},
   "source": [
    "Ahora usaremos un **dataframe** para visualizar los coeficientes como en Excel"
   ]
  },
  {
   "cell_type": "code",
   "execution_count": 12,
   "metadata": {},
   "outputs": [],
   "source": [
    "coeff = pd.DataFrame(modelo.coef_, columnas, columns=['Coeffs'])\n"
   ]
  },
  {
   "cell_type": "code",
   "execution_count": 13,
   "metadata": {},
   "outputs": [
    {
     "data": {
      "text/html": [
       "<div>\n",
       "<style scoped>\n",
       "    .dataframe tbody tr th:only-of-type {\n",
       "        vertical-align: middle;\n",
       "    }\n",
       "\n",
       "    .dataframe tbody tr th {\n",
       "        vertical-align: top;\n",
       "    }\n",
       "\n",
       "    .dataframe thead th {\n",
       "        text-align: right;\n",
       "    }\n",
       "</style>\n",
       "<table border=\"1\" class=\"dataframe\">\n",
       "  <thead>\n",
       "    <tr style=\"text-align: right;\">\n",
       "      <th></th>\n",
       "      <th>Coeffs</th>\n",
       "    </tr>\n",
       "  </thead>\n",
       "  <tbody>\n",
       "    <tr>\n",
       "      <th>AR Rank</th>\n",
       "      <td>-0.107306</td>\n",
       "    </tr>\n",
       "    <tr>\n",
       "      <th>ER Rank</th>\n",
       "      <td>-0.025869</td>\n",
       "    </tr>\n",
       "    <tr>\n",
       "      <th>FS Rank</th>\n",
       "      <td>-0.033679</td>\n",
       "    </tr>\n",
       "    <tr>\n",
       "      <th>CF Rank</th>\n",
       "      <td>-0.036277</td>\n",
       "    </tr>\n",
       "    <tr>\n",
       "      <th>IF Rank</th>\n",
       "      <td>-0.010182</td>\n",
       "    </tr>\n",
       "    <tr>\n",
       "      <th>IS Rank</th>\n",
       "      <td>-0.008241</td>\n",
       "    </tr>\n",
       "  </tbody>\n",
       "</table>\n",
       "</div>"
      ],
      "text/plain": [
       "           Coeffs\n",
       "AR Rank -0.107306\n",
       "ER Rank -0.025869\n",
       "FS Rank -0.033679\n",
       "CF Rank -0.036277\n",
       "IF Rank -0.010182\n",
       "IS Rank -0.008241"
      ]
     },
     "execution_count": 13,
     "metadata": {},
     "output_type": "execute_result"
    }
   ],
   "source": [
    "coeff\n"
   ]
  },
  {
   "cell_type": "markdown",
   "metadata": {},
   "source": [
    "La variable *Y_pred* sera la y que el modelo predecira usando los datos de test o sea el 20%"
   ]
  },
  {
   "cell_type": "code",
   "execution_count": 14,
   "metadata": {},
   "outputs": [],
   "source": [
    "Y_pred = modelo.predict(X_test)\n"
   ]
  },
  {
   "cell_type": "markdown",
   "metadata": {},
   "source": [
    "Para la validacion se calculara la diferencia entre la _y_ de prueba y la _y_ predecida"
   ]
  },
  {
   "cell_type": "code",
   "execution_count": 15,
   "metadata": {},
   "outputs": [],
   "source": [
    "validacion = pd.DataFrame(\n",
    "    {\"Actual\": Y_test, \"Prediccion\": Y_pred, \"Diferencia\": Y_test-Y_pred})\n"
   ]
  },
  {
   "cell_type": "markdown",
   "metadata": {},
   "source": [
    "Tomamos una muestra de la validacion para hacer nuestros plot"
   ]
  },
  {
   "cell_type": "code",
   "execution_count": 16,
   "metadata": {},
   "outputs": [],
   "source": [
    "validacion\n",
    "muestra = validacion.sample(30)\n"
   ]
  },
  {
   "cell_type": "markdown",
   "metadata": {},
   "source": [
    "Adicionalmente calculamos el $R^2$"
   ]
  },
  {
   "cell_type": "code",
   "execution_count": 17,
   "metadata": {},
   "outputs": [
    {
     "name": "stdout",
     "output_type": "stream",
     "text": [
      "R2 del entrenamiento: 0.9222\n",
      "R2 del test: 0.9158\n"
     ]
    }
   ],
   "source": [
    "r2_train = modelo.score(X_train, Y_train)\n",
    "r2_test = modelo.score(X_test, Y_test)\n",
    "print(f\"R2 del entrenamiento: {r2_train:.4f}\\nR2 del test: {r2_test:.4f}\")\n"
   ]
  },
  {
   "cell_type": "markdown",
   "metadata": {},
   "source": [
    "Finalmente hacemos este plot, el cual nos muestra una buena precision del modelo"
   ]
  },
  {
   "cell_type": "code",
   "execution_count": 18,
   "metadata": {},
   "outputs": [
    {
     "data": {
      "image/png": "[encoded data removed]",
      "text/plain": [
       "<Figure size 432x288 with 1 Axes>"
      ]
     },
     "metadata": {
      "needs_background": "light"
     },
     "output_type": "display_data"
    }
   ],
   "source": [
    "muestra.plot.bar()\n",
    "plt.savefig('../data/img/diferencia.jpg', dpi=500)\n"
   ]
  },
  {
   "cell_type": "code",
   "execution_count": 19,
   "metadata": {},
   "outputs": [
    {
     "data": {
      "image/png": "[encoded data removed]",
      "text/plain": [
       "<Figure size 720x720 with 1 Axes>"
      ]
     },
     "metadata": {
      "needs_background": "light"
     },
     "output_type": "display_data"
    }
   ],
   "source": [
    "coeffs = abs(coeff.sort_values(by='Coeffs',ascending=False))\n",
    "coeffs.plot.bar(figsize=(10,10),color='green')\n",
    "plt.grid()\n",
    "plt.show()"
   ]
  },
  {
   "cell_type": "code",
   "execution_count": null,
   "metadata": {},
   "outputs": [],
   "source": []
  }
 ],
 "metadata": {
  "interpreter": {
   "hash": "7f2fb5054ba0ce0c884899d2ba4a497eb862025f3286037962041267a704989d"
  },
  "kernelspec": {
   "display_name": "Python 3.10.2 ('rankings')",
   "language": "python",
   "name": "python3"
  },
  "language_info": {
   "codemirror_mode": {
    "name": "ipython",
    "version": 3
   },
   "file_extension": ".py",
   "mimetype": "text/x-python",
   "name": "python",
   "nbconvert_exporter": "python",
   "pygments_lexer": "ipython3",
   "version": "3.10.2"
  },
  "orig_nbformat": 4
 },
 "nbformat": 4,
 "nbformat_minor": 2
}
