{
 "cells": [
  {
   "cell_type": "code",
   "execution_count": 3,
   "metadata": {},
   "outputs": [],
   "source": [
    "import pandas as pd\n",
    "import matplotlib.pyplot as plt\n",
    "from sklearn.model_selection import train_test_split\n",
    "from sklearn.linear_model import LinearRegression\n"
   ]
  },
  {
   "cell_type": "code",
   "execution_count": 4,
   "metadata": {},
   "outputs": [],
   "source": [
    "df = pd.read_csv('../data/processed/qs_wur.csv')\n"
   ]
  },
  {
   "cell_type": "code",
   "execution_count": 5,
   "metadata": {},
   "outputs": [
    {
     "data": {
      "text/plain": [
       "Index(['Unnamed: 0', 'Year', 'Rank', 'O_Rank', 'Institution ',\n",
       "       'Academic Reputation', 'AR Rank', 'Employer Reputation', 'ER Rank',\n",
       "       'Faculty Student', 'FS Rank', 'Citations per Faculty', 'CF Rank',\n",
       "       'International Faculty', 'IF Rank', 'International Students', 'IS Rank',\n",
       "       'Overall Score'],\n",
       "      dtype='object')"
      ]
     },
     "execution_count": 5,
     "metadata": {},
     "output_type": "execute_result"
    }
   ],
   "source": [
    "df.columns\n"
   ]
  },
  {
   "cell_type": "code",
   "execution_count": 6,
   "metadata": {},
   "outputs": [],
   "source": [
    "X = df[['Academic Reputation', 'AR Rank', 'Employer Reputation', 'ER Rank',\n",
    "       'Faculty Student', 'FS Rank', 'Citations per Faculty', 'CF Rank',\n",
    "        'International Faculty', 'IF Rank', 'International Students', 'IS Rank']].values\n",
    "\n",
    "Y = df['Overall Score'].values\n"
   ]
  },
  {
   "cell_type": "code",
   "execution_count": 7,
   "metadata": {},
   "outputs": [],
   "source": [
    "X_train, X_test, Y_train, Y_test = train_test_split(\n",
    "    X, Y, test_size=0.2, random_state=0)\n"
   ]
  },
  {
   "cell_type": "code",
   "execution_count": 8,
   "metadata": {},
   "outputs": [],
   "source": [
    "modelo = LinearRegression()\n"
   ]
  },
  {
   "cell_type": "code",
   "execution_count": 9,
   "metadata": {},
   "outputs": [
    {
     "data": {
      "text/plain": [
       "LinearRegression()"
      ]
     },
     "execution_count": 9,
     "metadata": {},
     "output_type": "execute_result"
    }
   ],
   "source": [
    "modelo.fit(X_train, Y_train)\n"
   ]
  },
  {
   "cell_type": "code",
   "execution_count": 10,
   "metadata": {},
   "outputs": [],
   "source": [
    "columnas = ['Academic Reputation', 'AR Rank', 'Employer Reputation', 'ER Rank',\n",
    "            'Faculty Student', 'FS Rank', 'Citations per Faculty', 'CF Rank',\n",
    "            'International Faculty', 'IF Rank', 'International Students', 'IS Rank']\n",
    "\n",
    "coeff = pd.DataFrame(modelo.coef_, columnas, columns=['Coeffs'])\n"
   ]
  },
  {
   "cell_type": "code",
   "execution_count": 11,
   "metadata": {},
   "outputs": [
    {
     "data": {
      "text/html": [
       "<div>\n",
       "<style scoped>\n",
       "    .dataframe tbody tr th:only-of-type {\n",
       "        vertical-align: middle;\n",
       "    }\n",
       "\n",
       "    .dataframe tbody tr th {\n",
       "        vertical-align: top;\n",
       "    }\n",
       "\n",
       "    .dataframe thead th {\n",
       "        text-align: right;\n",
       "    }\n",
       "</style>\n",
       "<table border=\"1\" class=\"dataframe\">\n",
       "  <thead>\n",
       "    <tr style=\"text-align: right;\">\n",
       "      <th></th>\n",
       "      <th>Coeffs</th>\n",
       "    </tr>\n",
       "  </thead>\n",
       "  <tbody>\n",
       "    <tr>\n",
       "      <th>Academic Reputation</th>\n",
       "      <td>0.380216</td>\n",
       "    </tr>\n",
       "    <tr>\n",
       "      <th>AR Rank</th>\n",
       "      <td>-0.005550</td>\n",
       "    </tr>\n",
       "    <tr>\n",
       "      <th>Employer Reputation</th>\n",
       "      <td>0.072658</td>\n",
       "    </tr>\n",
       "    <tr>\n",
       "      <th>ER Rank</th>\n",
       "      <td>-0.006151</td>\n",
       "    </tr>\n",
       "    <tr>\n",
       "      <th>Faculty Student</th>\n",
       "      <td>0.196711</td>\n",
       "    </tr>\n",
       "    <tr>\n",
       "      <th>FS Rank</th>\n",
       "      <td>-0.000758</td>\n",
       "    </tr>\n",
       "    <tr>\n",
       "      <th>Citations per Faculty</th>\n",
       "      <td>0.193208</td>\n",
       "    </tr>\n",
       "    <tr>\n",
       "      <th>CF Rank</th>\n",
       "      <td>-0.000958</td>\n",
       "    </tr>\n",
       "    <tr>\n",
       "      <th>International Faculty</th>\n",
       "      <td>0.002998</td>\n",
       "    </tr>\n",
       "    <tr>\n",
       "      <th>IF Rank</th>\n",
       "      <td>-0.009959</td>\n",
       "    </tr>\n",
       "    <tr>\n",
       "      <th>International Students</th>\n",
       "      <td>0.076490</td>\n",
       "    </tr>\n",
       "    <tr>\n",
       "      <th>IS Rank</th>\n",
       "      <td>0.004960</td>\n",
       "    </tr>\n",
       "  </tbody>\n",
       "</table>\n",
       "</div>"
      ],
      "text/plain": [
       "                          Coeffs\n",
       "Academic Reputation     0.380216\n",
       "AR Rank                -0.005550\n",
       "Employer Reputation     0.072658\n",
       "ER Rank                -0.006151\n",
       "Faculty Student         0.196711\n",
       "FS Rank                -0.000758\n",
       "Citations per Faculty   0.193208\n",
       "CF Rank                -0.000958\n",
       "International Faculty   0.002998\n",
       "IF Rank                -0.009959\n",
       "International Students  0.076490\n",
       "IS Rank                 0.004960"
      ]
     },
     "execution_count": 11,
     "metadata": {},
     "output_type": "execute_result"
    }
   ],
   "source": [
    "coeff\n"
   ]
  },
  {
   "cell_type": "code",
   "execution_count": 12,
   "metadata": {},
   "outputs": [],
   "source": [
    "Y_pred = modelo.predict(X_test)\n"
   ]
  },
  {
   "cell_type": "code",
   "execution_count": 13,
   "metadata": {},
   "outputs": [],
   "source": [
    "validacion = pd.DataFrame(\n",
    "    {\"Actual\": Y_test, \"Prediccion\": Y_pred, \"Diferencia\": Y_test-Y_pred})\n"
   ]
  },
  {
   "cell_type": "code",
   "execution_count": 14,
   "metadata": {},
   "outputs": [],
   "source": [
    "validacion\n",
    "muestra = validacion.sample(30)\n"
   ]
  },
  {
   "cell_type": "code",
   "execution_count": 20,
   "metadata": {},
   "outputs": [
    {
     "data": {
      "image/png": "[encoded data removed]",
      "text/plain": [
       "<Figure size 432x288 with 1 Axes>"
      ]
     },
     "metadata": {
      "needs_background": "light"
     },
     "output_type": "display_data"
    }
   ],
   "source": [
    "muestra.plot.bar()\n",
    "plt.savefig('../data/img/diferencia.jpg',dpi=500)\n"
   ]
  },
  {
   "cell_type": "code",
   "execution_count": null,
   "metadata": {},
   "outputs": [],
   "source": []
  }
 ],
 "metadata": {
  "interpreter": {
   "hash": "7f2fb5054ba0ce0c884899d2ba4a497eb862025f3286037962041267a704989d"
  },
  "kernelspec": {
   "display_name": "Python 3.10.2 ('rankings')",
   "language": "python",
   "name": "python3"
  },
  "language_info": {
   "codemirror_mode": {
    "name": "ipython",
    "version": 3
   },
   "file_extension": ".py",
   "mimetype": "text/x-python",
   "name": "python",
   "nbconvert_exporter": "python",
   "pygments_lexer": "ipython3",
   "version": "3.10.2"
  },
  "orig_nbformat": 4
 },
 "nbformat": 4,
 "nbformat_minor": 2
}
