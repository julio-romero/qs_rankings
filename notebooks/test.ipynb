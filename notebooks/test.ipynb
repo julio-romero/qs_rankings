{
 "cells": [
  {
   "cell_type": "code",
   "execution_count": 19,
   "metadata": {},
   "outputs": [],
   "source": [
    "from src.functions_qs import leer_subjects"
   ]
  },
  {
   "cell_type": "code",
   "execution_count": 29,
   "metadata": {},
   "outputs": [],
   "source": [
    "\n",
    "def leer_subjects(path):\n",
    "    import pandas as pd\n",
    "    with open('./src/areas.txt', 'r') as f:\n",
    "        areas = f.readlines()\n",
    "    df = pd.DataFrame()\n",
    "    for i in range(len(areas)):\n",
    "        try:\n",
    "            nuevo = pd.read_excel(path, sheet_name=areas[i].replace('\\n', ''))\n",
    "            nuevo = nuevo.sample(100)\n",
    "            df = pd.concat(\n",
    "                [df, nuevo])\n",
    "        except ValueError:\n",
    "            print(\n",
    "                \"La hoja \", areas[i], \" no fue encontrada, checa el excel o el areas.txt\")\n",
    "\n",
    "    return df"
   ]
  },
  {
   "cell_type": "code",
   "execution_count": 53,
   "metadata": {},
   "outputs": [
    {
     "name": "stdout",
     "output_type": "stream",
     "text": [
      "La hoja  Computer Science & Information\n",
      "  no fue encontrada, checa el excel o el areas.txt\n",
      "La hoja  Engineering & Technology (Faculty)\n",
      "  no fue encontrada, checa el excel o el areas.txt\n",
      "La hoja  Library & Information Management\n",
      "  no fue encontrada, checa el excel o el areas.txt\n",
      "La hoja  Politics & International Studies\n",
      "  no fue encontrada, checa el excel o el areas.txt\n",
      "La hoja  Social Sciences & Management (Faculty)\n",
      "  no fue encontrada, checa el excel o el areas.txt\n"
     ]
    }
   ],
   "source": [
    "path = '../data/raw/QS by Subjects 2014-2021.xlsx'\n",
    "df = leer_subjects(path)"
   ]
  },
  {
   "cell_type": "code",
   "execution_count": 34,
   "metadata": {},
   "outputs": [
    {
     "data": {
      "text/plain": [
       "Year                  0\n",
       "Faculty               7\n",
       "Subject               7\n",
       "Rank                  4\n",
       "Institution           0\n",
       "Location              0\n",
       "Academic Score      251\n",
       "Employer Score      235\n",
       "Citations Score     602\n",
       "H Score             712\n",
       "Score              1704\n",
       "Rank TB             869\n",
       "Score_Calc          867\n",
       "RankInt            2449\n",
       "QS Region          2069\n",
       "Unnamed: 15        2498\n",
       "Unnamed: 16        2460\n",
       "dtype: int64"
      ]
     },
     "execution_count": 34,
     "metadata": {},
     "output_type": "execute_result"
    }
   ],
   "source": [
    "df.isna().sum()"
   ]
  },
  {
   "cell_type": "code",
   "execution_count": 55,
   "metadata": {},
   "outputs": [],
   "source": [
    "df.to_excel('../data/processed/subjects.xlsx')"
   ]
  },
  {
   "cell_type": "code",
   "execution_count": 35,
   "metadata": {},
   "outputs": [
    {
     "data": {
      "text/plain": [
       "Index(['Year', 'Faculty', 'Subject', 'Rank', 'Institution', 'Location',\n",
       "       'Academic Score', 'Employer Score', 'Citations Score', 'H Score',\n",
       "       'Score', 'Rank TB', 'Score_Calc', 'RankInt', 'QS Region', 'Unnamed: 15',\n",
       "       'Unnamed: 16'],\n",
       "      dtype='object')"
      ]
     },
     "execution_count": 35,
     "metadata": {},
     "output_type": "execute_result"
    }
   ],
   "source": [
    "df.columns"
   ]
  },
  {
   "cell_type": "code",
   "execution_count": 54,
   "metadata": {},
   "outputs": [],
   "source": [
    "df['Rank'] = df['Rank'].fillna(method='ffill')\n",
    "df['Rank TB'] = df['Rank TB'].fillna(method='ffill')\n",
    "df['RankInt'] = df['RankInt'].fillna(method='ffill')\n",
    "df['Academic Score'] = df['Academic Score'].fillna(df['Academic Score'].median)\n",
    "df['Employer Score'] = df['Employer Score'].fillna(df['Employer Score'].median)\n",
    "df['Citations Score'] = df['Citations Score'].fillna(df['Citations Score'].median)\n",
    "df['H Score'] = df['H Score'].fillna(df['H Score'].median)\n",
    "df['Score'] = df['Score'].fillna(df['Score'].median)\n",
    "df['Score_Calc'] = df['Score_Calc'].fillna(df['Score_Calc'].mean)\n",
    "df['QS Region'] = df['QS Region'].fillna(df['QS Region'].mode)\n",
    "df['Faculty'] = df['Faculty'].fillna(df['Faculty'].mode)\n",
    "df['Subject'] = df['Subject'].fillna(df['Subject'].mode)\n",
    "#df = df.drop(columns=['Unnamed: 15','Unnamesd: 16'])"
   ]
  },
  {
   "cell_type": "code",
   "execution_count": 50,
   "metadata": {},
   "outputs": [
    {
     "data": {
      "text/plain": [
       "Year               0\n",
       "Faculty            7\n",
       "Subject            7\n",
       "Rank               0\n",
       "Institution        0\n",
       "Location           0\n",
       "Academic Score     0\n",
       "Employer Score     0\n",
       "Citations Score    0\n",
       "H Score            0\n",
       "Score              0\n",
       "Rank TB            0\n",
       "Score_Calc         0\n",
       "RankInt            6\n",
       "QS Region          0\n",
       "dtype: int64"
      ]
     },
     "execution_count": 50,
     "metadata": {},
     "output_type": "execute_result"
    }
   ],
   "source": [
    "df.isna().sum()"
   ]
  },
  {
   "cell_type": "code",
   "execution_count": null,
   "metadata": {},
   "outputs": [],
   "source": []
  }
 ],
 "metadata": {
  "interpreter": {
   "hash": "7f2fb5054ba0ce0c884899d2ba4a497eb862025f3286037962041267a704989d"
  },
  "kernelspec": {
   "display_name": "Python 3.10.2 ('rankings')",
   "language": "python",
   "name": "python3"
  },
  "language_info": {
   "codemirror_mode": {
    "name": "ipython",
    "version": 3
   },
   "file_extension": ".py",
   "mimetype": "text/x-python",
   "name": "python",
   "nbconvert_exporter": "python",
   "pygments_lexer": "ipython3",
   "version": "3.10.2"
  },
  "orig_nbformat": 4
 },
 "nbformat": 4,
 "nbformat_minor": 2
}
