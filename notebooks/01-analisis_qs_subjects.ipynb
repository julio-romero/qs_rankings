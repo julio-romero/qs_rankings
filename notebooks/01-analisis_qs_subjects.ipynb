{
 "cells": [
  {
   "cell_type": "code",
   "execution_count": 1,
   "metadata": {},
   "outputs": [],
   "source": [
    "import matplotlib.pyplot as plt\n",
    "import numpy as np\n",
    "import pandas as pd\n",
    "import seaborn as sns\n",
    "from sklearn.ensemble import RandomForestRegressor\n",
    "from sklearn.linear_model import LinearRegression\n",
    "from sklearn.model_selection import train_test_split\n"
   ]
  },
  {
   "cell_type": "code",
   "execution_count": 2,
   "metadata": {},
   "outputs": [],
   "source": [
    "df = pd.read_excel('../data/raw/QS by Subjects 2014-2021.xlsx',\n",
    "                   sheet_name='Engineering & Technology (Facul')\n"
   ]
  },
  {
   "cell_type": "code",
   "execution_count": 3,
   "metadata": {},
   "outputs": [
    {
     "data": {
      "text/plain": [
       "(2532, 15)"
      ]
     },
     "execution_count": 3,
     "metadata": {},
     "output_type": "execute_result"
    }
   ],
   "source": [
    "df.shape\n"
   ]
  },
  {
   "cell_type": "code",
   "execution_count": 4,
   "metadata": {},
   "outputs": [
    {
     "data": {
      "text/plain": [
       "Year                  0\n",
       "Faculty               0\n",
       "Subject               0\n",
       "Rank                  0\n",
       "Institution           0\n",
       "Location              0\n",
       "Academic Score       85\n",
       "Employer Score       89\n",
       "Citations Score      77\n",
       "H Score              78\n",
       "Score               526\n",
       "Rank TB            1024\n",
       "Score_Calc         1024\n",
       "RankInt            2473\n",
       "QS Region          2028\n",
       "dtype: int64"
      ]
     },
     "execution_count": 4,
     "metadata": {},
     "output_type": "execute_result"
    }
   ],
   "source": [
    "df.isna().sum()\n"
   ]
  },
  {
   "cell_type": "markdown",
   "metadata": {},
   "source": [
    "Empezamos eliminando los NaNs"
   ]
  },
  {
   "cell_type": "code",
   "execution_count": 5,
   "metadata": {},
   "outputs": [],
   "source": [
    "df['Academic Score'] = df['Academic Score'].fillna(df['Academic Score'].mean())\n",
    "df['Employer Score'] = df['Employer Score'].fillna(df['Employer Score'].mean())\n",
    "df['Citations Score'] = df['Citations Score'].fillna(\n",
    "    df['Citations Score'].mean())\n",
    "df['H Score'] = df['H Score'].fillna(df['H Score'].mean())\n",
    "df['Score'] = df['Score'].fillna(df['Score'].mean())\n",
    "df = df.drop(columns=['Rank TB', 'Score_Calc', 'RankInt', 'QS Region'])\n"
   ]
  },
  {
   "cell_type": "code",
   "execution_count": 6,
   "metadata": {
    "scrolled": true
   },
   "outputs": [
    {
     "data": {
      "text/plain": [
       "Year               0\n",
       "Faculty            0\n",
       "Subject            0\n",
       "Rank               0\n",
       "Institution        0\n",
       "Location           0\n",
       "Academic Score     0\n",
       "Employer Score     0\n",
       "Citations Score    0\n",
       "H Score            0\n",
       "Score              0\n",
       "dtype: int64"
      ]
     },
     "execution_count": 6,
     "metadata": {},
     "output_type": "execute_result"
    }
   ],
   "source": [
    "df.isna().sum()\n"
   ]
  },
  {
   "cell_type": "markdown",
   "metadata": {},
   "source": [
    "Con todos estos datos haremos un modelo usando los scores para predecir el rank, primeramente necesitamos ver que vairbles estan muy correlacionadas\n",
    "\n",
    "Tenemos un problema debido a que Rank esta mal formateado, asi que usaremos Score como variable a predecir"
   ]
  },
  {
   "cell_type": "code",
   "execution_count": 7,
   "metadata": {
    "scrolled": true
   },
   "outputs": [
    {
     "data": {
      "text/plain": [
       "Year              -0.026407\n",
       "Citations Score    0.352722\n",
       "H Score            0.560210\n",
       "Employer Score     0.660981\n",
       "Academic Score     0.805995\n",
       "Score              1.000000\n",
       "Name: Score, dtype: float64"
      ]
     },
     "execution_count": 7,
     "metadata": {},
     "output_type": "execute_result"
    }
   ],
   "source": [
    "df.corr()['Score'].sort_values()\n"
   ]
  },
  {
   "cell_type": "markdown",
   "metadata": {},
   "source": [
    "En este [articulo](https://www.sciencedirect.com/science/article/pii/S0895435615000141) se menciona que solo son necesarias dos variables para la mayoria de modelos de regresion lineal, asi que solo usare Academic y Employer Score"
   ]
  },
  {
   "cell_type": "markdown",
   "metadata": {},
   "source": [
    "## Regresion lineal"
   ]
  },
  {
   "cell_type": "code",
   "execution_count": 8,
   "metadata": {},
   "outputs": [],
   "source": [
    "cols = ['Academic Score', 'Employer Score', 'Citations Score', 'H Score']\n"
   ]
  },
  {
   "cell_type": "code",
   "execution_count": 9,
   "metadata": {},
   "outputs": [],
   "source": [
    "X = df[cols]\n",
    "y = df['Score']\n"
   ]
  },
  {
   "cell_type": "code",
   "execution_count": 10,
   "metadata": {},
   "outputs": [],
   "source": [
    "X_train, X_test, y_train, y_test = train_test_split(\n",
    "    X, y, test_size=0.2, random_state=0)\n"
   ]
  },
  {
   "cell_type": "code",
   "execution_count": 11,
   "metadata": {},
   "outputs": [
    {
     "name": "stdout",
     "output_type": "stream",
     "text": [
      "train score 0.7516292649612546\n",
      "test score 0.7318296499391053\n"
     ]
    }
   ],
   "source": [
    "modelo_lineal = LinearRegression()\n",
    "modelo_lineal.fit(X_train, y_train)\n",
    "predictions = modelo_lineal.predict(X_test)\n",
    "print('train score', modelo_lineal.score(X_train, y_train))\n",
    "print('test score', modelo_lineal.score(X_test, y_test))\n"
   ]
  },
  {
   "cell_type": "markdown",
   "metadata": {},
   "source": [
    "## Random Forest"
   ]
  },
  {
   "cell_type": "code",
   "execution_count": 12,
   "metadata": {},
   "outputs": [],
   "source": [
    "cols = ['Academic Score', 'Employer Score', 'Citations Score', 'H Score']\n"
   ]
  },
  {
   "cell_type": "code",
   "execution_count": 13,
   "metadata": {},
   "outputs": [],
   "source": [
    "X = df[cols]\n",
    "y = df['Score']\n"
   ]
  },
  {
   "cell_type": "code",
   "execution_count": 14,
   "metadata": {},
   "outputs": [
    {
     "name": "stdout",
     "output_type": "stream",
     "text": [
      "train score 0.9307376874048509\n",
      "test score 0.8534605710420222\n"
     ]
    }
   ],
   "source": [
    "modelo_forest = RandomForestRegressor(\n",
    "    max_depth=10, max_leaf_nodes=750, random_state=0)\n",
    "modelo_forest.fit(X_train, y_train)\n",
    "predictions = modelo_forest.predict(X_test)\n",
    "print('train score', modelo_forest.score(X_train, y_train))\n",
    "print('test score', modelo_forest.score(X_test, y_test))\n"
   ]
  },
  {
   "cell_type": "code",
   "execution_count": 15,
   "metadata": {},
   "outputs": [],
   "source": [
    "df_tec = df[df['Institution'] == 'Tecnológico de Monterrey (ITESM)']\n"
   ]
  },
  {
   "cell_type": "code",
   "execution_count": 16,
   "metadata": {},
   "outputs": [],
   "source": [
    "df_tec = df_tec.replace('267=', 267)\n",
    "df_tec = df_tec.replace('156=', 156)\n",
    "df_tec = df_tec.replace('145=', 145)\n",
    "df_tec = df_tec.replace('129=', 129)\n",
    "df_tec['Rank'] = pd.to_numeric(df_tec['Rank'])\n"
   ]
  },
  {
   "cell_type": "code",
   "execution_count": 17,
   "metadata": {
    "scrolled": true
   },
   "outputs": [
    {
     "data": {
      "text/plain": [
       "<AxesSubplot:xlabel='Year', ylabel='Score'>"
      ]
     },
     "execution_count": 17,
     "metadata": {},
     "output_type": "execute_result"
    },
    {
     "data": {
      "image/png": "[encoded data removed]",
      "text/plain": [
       "<Figure size 432x288 with 1 Axes>"
      ]
     },
     "metadata": {
      "needs_background": "light"
     },
     "output_type": "display_data"
    }
   ],
   "source": [
    "sns.lineplot(x='Year', y='Score', data=df_tec)\n"
   ]
  },
  {
   "cell_type": "code",
   "execution_count": 18,
   "metadata": {},
   "outputs": [],
   "source": [
    "nuevo = [2022, \"Engineering & Technology\", \"Engineering & Technology (Faculty)\", 0, 'Tec', 'Mexico', np.nan, np.nan, np.nan,\n",
    "         np.nan, 0]\n",
    "nuevo = pd.Series(nuevo, index=df_tec.columns)\n"
   ]
  },
  {
   "cell_type": "code",
   "execution_count": 19,
   "metadata": {
    "scrolled": true
   },
   "outputs": [
    {
     "name": "stderr",
     "output_type": "stream",
     "text": [
      "/var/folders/d_/jdkfxb9j7s5d540rn875nn2h0000gn/T/ipykernel_17225/1893646304.py:1: FutureWarning: The frame.append method is deprecated and will be removed from pandas in a future version. Use pandas.concat instead.\n",
      "  df_tec = df_tec.append(nuevo, ignore_index=True)\n"
     ]
    },
    {
     "data": {
      "text/html": [
       "<div>\n",
       "<style scoped>\n",
       "    .dataframe tbody tr th:only-of-type {\n",
       "        vertical-align: middle;\n",
       "    }\n",
       "\n",
       "    .dataframe tbody tr th {\n",
       "        vertical-align: top;\n",
       "    }\n",
       "\n",
       "    .dataframe thead th {\n",
       "        text-align: right;\n",
       "    }\n",
       "</style>\n",
       "<table border=\"1\" class=\"dataframe\">\n",
       "  <thead>\n",
       "    <tr style=\"text-align: right;\">\n",
       "      <th></th>\n",
       "      <th>Year</th>\n",
       "      <th>Faculty</th>\n",
       "      <th>Subject</th>\n",
       "      <th>Rank</th>\n",
       "      <th>Institution</th>\n",
       "      <th>Location</th>\n",
       "      <th>Academic Score</th>\n",
       "      <th>Employer Score</th>\n",
       "      <th>Citations Score</th>\n",
       "      <th>H Score</th>\n",
       "      <th>Score</th>\n",
       "    </tr>\n",
       "  </thead>\n",
       "  <tbody>\n",
       "    <tr>\n",
       "      <th>0</th>\n",
       "      <td>2017</td>\n",
       "      <td>Engineering &amp; Technology</td>\n",
       "      <td>Engineering &amp; Technology (Faculty)</td>\n",
       "      <td>267</td>\n",
       "      <td>Tecnológico de Monterrey (ITESM)</td>\n",
       "      <td>Mexico</td>\n",
       "      <td>73.8</td>\n",
       "      <td>64.2</td>\n",
       "      <td>57.8</td>\n",
       "      <td>56.2</td>\n",
       "      <td>65.9</td>\n",
       "    </tr>\n",
       "    <tr>\n",
       "      <th>1</th>\n",
       "      <td>2018</td>\n",
       "      <td>Engineering &amp; Technology</td>\n",
       "      <td>Engineering &amp; Technology (Faculty)</td>\n",
       "      <td>235</td>\n",
       "      <td>Tecnológico de Monterrey (ITESM)</td>\n",
       "      <td>Mexico</td>\n",
       "      <td>77.8</td>\n",
       "      <td>70.8</td>\n",
       "      <td>60.7</td>\n",
       "      <td>57.9</td>\n",
       "      <td>70.2</td>\n",
       "    </tr>\n",
       "    <tr>\n",
       "      <th>2</th>\n",
       "      <td>2019</td>\n",
       "      <td>Engineering &amp; Technology</td>\n",
       "      <td>Engineering &amp; Technology (Faculty)</td>\n",
       "      <td>156</td>\n",
       "      <td>Tecnológico de Monterrey (ITESM)</td>\n",
       "      <td>Mexico</td>\n",
       "      <td>77.8</td>\n",
       "      <td>79.5</td>\n",
       "      <td>68.6</td>\n",
       "      <td>63.5</td>\n",
       "      <td>74.8</td>\n",
       "    </tr>\n",
       "    <tr>\n",
       "      <th>3</th>\n",
       "      <td>2020</td>\n",
       "      <td>Engineering &amp; Technology</td>\n",
       "      <td>Engineering &amp; Technology (Faculty)</td>\n",
       "      <td>145</td>\n",
       "      <td>Tecnológico de Monterrey (ITESM)</td>\n",
       "      <td>Mexico</td>\n",
       "      <td>75.6</td>\n",
       "      <td>82.4</td>\n",
       "      <td>68.6</td>\n",
       "      <td>52.9</td>\n",
       "      <td>73.2</td>\n",
       "    </tr>\n",
       "    <tr>\n",
       "      <th>4</th>\n",
       "      <td>2021</td>\n",
       "      <td>Engineering &amp; Technology</td>\n",
       "      <td>Engineering &amp; Technology (Faculty)</td>\n",
       "      <td>129</td>\n",
       "      <td>Tecnológico de Monterrey (ITESM)</td>\n",
       "      <td>Mexico</td>\n",
       "      <td>75.2</td>\n",
       "      <td>83.2</td>\n",
       "      <td>72.0</td>\n",
       "      <td>50.2</td>\n",
       "      <td>73.4</td>\n",
       "    </tr>\n",
       "    <tr>\n",
       "      <th>5</th>\n",
       "      <td>2022</td>\n",
       "      <td>Engineering &amp; Technology</td>\n",
       "      <td>Engineering &amp; Technology (Faculty)</td>\n",
       "      <td>0</td>\n",
       "      <td>Tec</td>\n",
       "      <td>Mexico</td>\n",
       "      <td>NaN</td>\n",
       "      <td>NaN</td>\n",
       "      <td>NaN</td>\n",
       "      <td>NaN</td>\n",
       "      <td>0.0</td>\n",
       "    </tr>\n",
       "  </tbody>\n",
       "</table>\n",
       "</div>"
      ],
      "text/plain": [
       "   Year                   Faculty                             Subject  Rank  \\\n",
       "0  2017  Engineering & Technology  Engineering & Technology (Faculty)   267   \n",
       "1  2018  Engineering & Technology  Engineering & Technology (Faculty)   235   \n",
       "2  2019  Engineering & Technology  Engineering & Technology (Faculty)   156   \n",
       "3  2020  Engineering & Technology  Engineering & Technology (Faculty)   145   \n",
       "4  2021  Engineering & Technology  Engineering & Technology (Faculty)   129   \n",
       "5  2022  Engineering & Technology  Engineering & Technology (Faculty)     0   \n",
       "\n",
       "                        Institution Location  Academic Score  Employer Score  \\\n",
       "0  Tecnológico de Monterrey (ITESM)   Mexico            73.8            64.2   \n",
       "1  Tecnológico de Monterrey (ITESM)   Mexico            77.8            70.8   \n",
       "2  Tecnológico de Monterrey (ITESM)   Mexico            77.8            79.5   \n",
       "3  Tecnológico de Monterrey (ITESM)   Mexico            75.6            82.4   \n",
       "4  Tecnológico de Monterrey (ITESM)   Mexico            75.2            83.2   \n",
       "5                               Tec   Mexico             NaN             NaN   \n",
       "\n",
       "   Citations Score  H Score  Score  \n",
       "0             57.8     56.2   65.9  \n",
       "1             60.7     57.9   70.2  \n",
       "2             68.6     63.5   74.8  \n",
       "3             68.6     52.9   73.2  \n",
       "4             72.0     50.2   73.4  \n",
       "5              NaN      NaN    0.0  "
      ]
     },
     "execution_count": 19,
     "metadata": {},
     "output_type": "execute_result"
    }
   ],
   "source": [
    "df_tec = df_tec.append(nuevo, ignore_index=True)\n",
    "df_tec\n"
   ]
  },
  {
   "cell_type": "code",
   "execution_count": 20,
   "metadata": {
    "scrolled": false
   },
   "outputs": [
    {
     "name": "stderr",
     "output_type": "stream",
     "text": [
      "/var/folders/d_/jdkfxb9j7s5d540rn875nn2h0000gn/T/ipykernel_17225/1159328487.py:2: SettingWithCopyWarning: \n",
      "A value is trying to be set on a copy of a slice from a DataFrame.\n",
      "Try using .loc[row_indexer,col_indexer] = value instead\n",
      "\n",
      "See the caveats in the documentation: https://pandas.pydata.org/pandas-docs/stable/user_guide/indexing.html#returning-a-view-versus-a-copy\n",
      "  x_tec['Year'] = df_tec['Year']\n",
      "/var/folders/d_/jdkfxb9j7s5d540rn875nn2h0000gn/T/ipykernel_17225/1159328487.py:3: SettingWithCopyWarning: \n",
      "A value is trying to be set on a copy of a slice from a DataFrame.\n",
      "Try using .loc[row_indexer,col_indexer] = value instead\n",
      "\n",
      "See the caveats in the documentation: https://pandas.pydata.org/pandas-docs/stable/user_guide/indexing.html#returning-a-view-versus-a-copy\n",
      "  x_tec['Year'] = pd.to_datetime(x_tec['Year'], format='%Y')\n"
     ]
    }
   ],
   "source": [
    "x_tec = df_tec[cols]\n",
    "x_tec['Year'] = df_tec['Year']\n",
    "x_tec['Year'] = pd.to_datetime(x_tec['Year'], format='%Y')\n"
   ]
  },
  {
   "cell_type": "code",
   "execution_count": 21,
   "metadata": {},
   "outputs": [
    {
     "data": {
      "text/html": [
       "<div>\n",
       "<style scoped>\n",
       "    .dataframe tbody tr th:only-of-type {\n",
       "        vertical-align: middle;\n",
       "    }\n",
       "\n",
       "    .dataframe tbody tr th {\n",
       "        vertical-align: top;\n",
       "    }\n",
       "\n",
       "    .dataframe thead th {\n",
       "        text-align: right;\n",
       "    }\n",
       "</style>\n",
       "<table border=\"1\" class=\"dataframe\">\n",
       "  <thead>\n",
       "    <tr style=\"text-align: right;\">\n",
       "      <th></th>\n",
       "      <th>Academic Score</th>\n",
       "      <th>Employer Score</th>\n",
       "      <th>Citations Score</th>\n",
       "      <th>H Score</th>\n",
       "    </tr>\n",
       "    <tr>\n",
       "      <th>Year</th>\n",
       "      <th></th>\n",
       "      <th></th>\n",
       "      <th></th>\n",
       "      <th></th>\n",
       "    </tr>\n",
       "  </thead>\n",
       "  <tbody>\n",
       "    <tr>\n",
       "      <th>2017-01-01</th>\n",
       "      <td>73.8</td>\n",
       "      <td>64.2</td>\n",
       "      <td>57.8</td>\n",
       "      <td>56.2</td>\n",
       "    </tr>\n",
       "    <tr>\n",
       "      <th>2018-01-01</th>\n",
       "      <td>77.8</td>\n",
       "      <td>70.8</td>\n",
       "      <td>60.7</td>\n",
       "      <td>57.9</td>\n",
       "    </tr>\n",
       "    <tr>\n",
       "      <th>2019-01-01</th>\n",
       "      <td>77.8</td>\n",
       "      <td>79.5</td>\n",
       "      <td>68.6</td>\n",
       "      <td>63.5</td>\n",
       "    </tr>\n",
       "    <tr>\n",
       "      <th>2020-01-01</th>\n",
       "      <td>75.6</td>\n",
       "      <td>82.4</td>\n",
       "      <td>68.6</td>\n",
       "      <td>52.9</td>\n",
       "    </tr>\n",
       "    <tr>\n",
       "      <th>2021-01-01</th>\n",
       "      <td>75.2</td>\n",
       "      <td>83.2</td>\n",
       "      <td>72.0</td>\n",
       "      <td>50.2</td>\n",
       "    </tr>\n",
       "    <tr>\n",
       "      <th>2022-01-01</th>\n",
       "      <td>NaN</td>\n",
       "      <td>NaN</td>\n",
       "      <td>NaN</td>\n",
       "      <td>NaN</td>\n",
       "    </tr>\n",
       "  </tbody>\n",
       "</table>\n",
       "</div>"
      ],
      "text/plain": [
       "            Academic Score  Employer Score  Citations Score  H Score\n",
       "Year                                                                \n",
       "2017-01-01            73.8            64.2             57.8     56.2\n",
       "2018-01-01            77.8            70.8             60.7     57.9\n",
       "2019-01-01            77.8            79.5             68.6     63.5\n",
       "2020-01-01            75.6            82.4             68.6     52.9\n",
       "2021-01-01            75.2            83.2             72.0     50.2\n",
       "2022-01-01             NaN             NaN              NaN      NaN"
      ]
     },
     "execution_count": 21,
     "metadata": {},
     "output_type": "execute_result"
    }
   ],
   "source": [
    "x_tec = x_tec.set_index('Year')\n",
    "x_tec\n",
    "#x_tec['Year'] = pd.to_datetime(x_tec['Year'],format='%Y')\n"
   ]
  },
  {
   "cell_type": "code",
   "execution_count": 22,
   "metadata": {
    "scrolled": true
   },
   "outputs": [
    {
     "data": {
      "text/html": [
       "<div>\n",
       "<style scoped>\n",
       "    .dataframe tbody tr th:only-of-type {\n",
       "        vertical-align: middle;\n",
       "    }\n",
       "\n",
       "    .dataframe tbody tr th {\n",
       "        vertical-align: top;\n",
       "    }\n",
       "\n",
       "    .dataframe thead th {\n",
       "        text-align: right;\n",
       "    }\n",
       "</style>\n",
       "<table border=\"1\" class=\"dataframe\">\n",
       "  <thead>\n",
       "    <tr style=\"text-align: right;\">\n",
       "      <th></th>\n",
       "      <th>Academic Score</th>\n",
       "      <th>Employer Score</th>\n",
       "      <th>Citations Score</th>\n",
       "      <th>H Score</th>\n",
       "    </tr>\n",
       "    <tr>\n",
       "      <th>Year</th>\n",
       "      <th></th>\n",
       "      <th></th>\n",
       "      <th></th>\n",
       "      <th></th>\n",
       "    </tr>\n",
       "  </thead>\n",
       "  <tbody>\n",
       "    <tr>\n",
       "      <th>2017-01-01</th>\n",
       "      <td>73.8</td>\n",
       "      <td>64.2</td>\n",
       "      <td>57.8</td>\n",
       "      <td>56.2</td>\n",
       "    </tr>\n",
       "    <tr>\n",
       "      <th>2018-01-01</th>\n",
       "      <td>77.8</td>\n",
       "      <td>70.8</td>\n",
       "      <td>60.7</td>\n",
       "      <td>57.9</td>\n",
       "    </tr>\n",
       "    <tr>\n",
       "      <th>2019-01-01</th>\n",
       "      <td>77.8</td>\n",
       "      <td>79.5</td>\n",
       "      <td>68.6</td>\n",
       "      <td>63.5</td>\n",
       "    </tr>\n",
       "    <tr>\n",
       "      <th>2020-01-01</th>\n",
       "      <td>75.6</td>\n",
       "      <td>82.4</td>\n",
       "      <td>68.6</td>\n",
       "      <td>52.9</td>\n",
       "    </tr>\n",
       "    <tr>\n",
       "      <th>2021-01-01</th>\n",
       "      <td>75.2</td>\n",
       "      <td>83.2</td>\n",
       "      <td>72.0</td>\n",
       "      <td>50.2</td>\n",
       "    </tr>\n",
       "    <tr>\n",
       "      <th>2022-01-01</th>\n",
       "      <td>75.2</td>\n",
       "      <td>83.2</td>\n",
       "      <td>72.0</td>\n",
       "      <td>50.2</td>\n",
       "    </tr>\n",
       "  </tbody>\n",
       "</table>\n",
       "</div>"
      ],
      "text/plain": [
       "            Academic Score  Employer Score  Citations Score  H Score\n",
       "Year                                                                \n",
       "2017-01-01            73.8            64.2             57.8     56.2\n",
       "2018-01-01            77.8            70.8             60.7     57.9\n",
       "2019-01-01            77.8            79.5             68.6     63.5\n",
       "2020-01-01            75.6            82.4             68.6     52.9\n",
       "2021-01-01            75.2            83.2             72.0     50.2\n",
       "2022-01-01            75.2            83.2             72.0     50.2"
      ]
     },
     "execution_count": 22,
     "metadata": {},
     "output_type": "execute_result"
    }
   ],
   "source": [
    "x_tec = x_tec.interpolate(method='time')\n",
    "x_tec\n"
   ]
  },
  {
   "cell_type": "code",
   "execution_count": 23,
   "metadata": {},
   "outputs": [
    {
     "name": "stdout",
     "output_type": "stream",
     "text": [
      "[69.95352532 72.95950974 75.97335457 74.1381271  73.81743811 73.81743811]\n",
      "[67.40230919 71.1324406  76.1221755  72.96401242 73.34809338 73.34809338]\n"
     ]
    }
   ],
   "source": [
    "print(modelo_lineal.predict(x_tec))\n",
    "print(modelo_forest.predict(x_tec))\n"
   ]
  },
  {
   "cell_type": "code",
   "execution_count": 24,
   "metadata": {},
   "outputs": [
    {
     "name": "stdout",
     "output_type": "stream",
     "text": [
      "73.34809337606835\n"
     ]
    },
    {
     "data": {
      "text/html": [
       "<div>\n",
       "<style scoped>\n",
       "    .dataframe tbody tr th:only-of-type {\n",
       "        vertical-align: middle;\n",
       "    }\n",
       "\n",
       "    .dataframe tbody tr th {\n",
       "        vertical-align: top;\n",
       "    }\n",
       "\n",
       "    .dataframe thead th {\n",
       "        text-align: right;\n",
       "    }\n",
       "</style>\n",
       "<table border=\"1\" class=\"dataframe\">\n",
       "  <thead>\n",
       "    <tr style=\"text-align: right;\">\n",
       "      <th></th>\n",
       "      <th>Year</th>\n",
       "      <th>Faculty</th>\n",
       "      <th>Subject</th>\n",
       "      <th>Rank</th>\n",
       "      <th>Institution</th>\n",
       "      <th>Location</th>\n",
       "      <th>Academic Score</th>\n",
       "      <th>Employer Score</th>\n",
       "      <th>Citations Score</th>\n",
       "      <th>H Score</th>\n",
       "      <th>Score</th>\n",
       "    </tr>\n",
       "  </thead>\n",
       "  <tbody>\n",
       "    <tr>\n",
       "      <th>2012</th>\n",
       "      <td>2021</td>\n",
       "      <td>Engineering &amp; Technology</td>\n",
       "      <td>Engineering &amp; Technology (Faculty)</td>\n",
       "      <td>129=</td>\n",
       "      <td>Tecnológico de Monterrey (ITESM)</td>\n",
       "      <td>Mexico</td>\n",
       "      <td>75.2</td>\n",
       "      <td>83.2</td>\n",
       "      <td>72.0</td>\n",
       "      <td>50.2</td>\n",
       "      <td>73.4</td>\n",
       "    </tr>\n",
       "    <tr>\n",
       "      <th>2141</th>\n",
       "      <td>2021</td>\n",
       "      <td>Engineering &amp; Technology</td>\n",
       "      <td>Engineering &amp; Technology (Faculty)</td>\n",
       "      <td>129=</td>\n",
       "      <td>Technische Universität Dresden</td>\n",
       "      <td>Germany</td>\n",
       "      <td>79.2</td>\n",
       "      <td>59.6</td>\n",
       "      <td>83.3</td>\n",
       "      <td>75.7</td>\n",
       "      <td>73.4</td>\n",
       "    </tr>\n",
       "    <tr>\n",
       "      <th>2142</th>\n",
       "      <td>2021</td>\n",
       "      <td>Engineering &amp; Technology</td>\n",
       "      <td>Engineering &amp; Technology (Faculty)</td>\n",
       "      <td>129=</td>\n",
       "      <td>University of Leeds</td>\n",
       "      <td>United Kingdom</td>\n",
       "      <td>70.7</td>\n",
       "      <td>70.2</td>\n",
       "      <td>87.0</td>\n",
       "      <td>73.5</td>\n",
       "      <td>73.4</td>\n",
       "    </tr>\n",
       "    <tr>\n",
       "      <th>2143</th>\n",
       "      <td>2021</td>\n",
       "      <td>Engineering &amp; Technology</td>\n",
       "      <td>Engineering &amp; Technology (Faculty)</td>\n",
       "      <td>132</td>\n",
       "      <td>Beijing Institute of Technology</td>\n",
       "      <td>China</td>\n",
       "      <td>72.9</td>\n",
       "      <td>62.9</td>\n",
       "      <td>81.3</td>\n",
       "      <td>87.2</td>\n",
       "      <td>73.3</td>\n",
       "    </tr>\n",
       "    <tr>\n",
       "      <th>2144</th>\n",
       "      <td>2021</td>\n",
       "      <td>Engineering &amp; Technology</td>\n",
       "      <td>Engineering &amp; Technology (Faculty)</td>\n",
       "      <td>133</td>\n",
       "      <td>Ohio State University</td>\n",
       "      <td>United States</td>\n",
       "      <td>71.3</td>\n",
       "      <td>66.5</td>\n",
       "      <td>86.2</td>\n",
       "      <td>78.4</td>\n",
       "      <td>73.2</td>\n",
       "    </tr>\n",
       "    <tr>\n",
       "      <th>2145</th>\n",
       "      <td>2021</td>\n",
       "      <td>Engineering &amp; Technology</td>\n",
       "      <td>Engineering &amp; Technology (Faculty)</td>\n",
       "      <td>134=</td>\n",
       "      <td>The University of Adelaide</td>\n",
       "      <td>Australia</td>\n",
       "      <td>67.6</td>\n",
       "      <td>65.6</td>\n",
       "      <td>96.1</td>\n",
       "      <td>79.6</td>\n",
       "      <td>73.1</td>\n",
       "    </tr>\n",
       "    <tr>\n",
       "      <th>2146</th>\n",
       "      <td>2021</td>\n",
       "      <td>Engineering &amp; Technology</td>\n",
       "      <td>Engineering &amp; Technology (Faculty)</td>\n",
       "      <td>134=</td>\n",
       "      <td>Universidade Estadual de Campinas (Unicamp)</td>\n",
       "      <td>Brazil</td>\n",
       "      <td>74.3</td>\n",
       "      <td>72.3</td>\n",
       "      <td>79.1</td>\n",
       "      <td>65.7</td>\n",
       "      <td>73.1</td>\n",
       "    </tr>\n",
       "    <tr>\n",
       "      <th>2147</th>\n",
       "      <td>2021</td>\n",
       "      <td>Engineering &amp; Technology</td>\n",
       "      <td>Engineering &amp; Technology (Faculty)</td>\n",
       "      <td>136</td>\n",
       "      <td>University of Twente</td>\n",
       "      <td>Netherlands</td>\n",
       "      <td>75.2</td>\n",
       "      <td>67.2</td>\n",
       "      <td>83.4</td>\n",
       "      <td>68.5</td>\n",
       "      <td>73.0</td>\n",
       "    </tr>\n",
       "    <tr>\n",
       "      <th>2148</th>\n",
       "      <td>2021</td>\n",
       "      <td>Engineering &amp; Technology</td>\n",
       "      <td>Engineering &amp; Technology (Faculty)</td>\n",
       "      <td>137=</td>\n",
       "      <td>The University of Nottingham</td>\n",
       "      <td>United Kingdom</td>\n",
       "      <td>69.7</td>\n",
       "      <td>66.4</td>\n",
       "      <td>87.0</td>\n",
       "      <td>79.6</td>\n",
       "      <td>72.8</td>\n",
       "    </tr>\n",
       "    <tr>\n",
       "      <th>2149</th>\n",
       "      <td>2021</td>\n",
       "      <td>Engineering &amp; Technology</td>\n",
       "      <td>Engineering &amp; Technology (Faculty)</td>\n",
       "      <td>137=</td>\n",
       "      <td>University of California, Davis (UCD)</td>\n",
       "      <td>United States</td>\n",
       "      <td>70.4</td>\n",
       "      <td>66.1</td>\n",
       "      <td>87.1</td>\n",
       "      <td>78.4</td>\n",
       "      <td>72.8</td>\n",
       "    </tr>\n",
       "  </tbody>\n",
       "</table>\n",
       "</div>"
      ],
      "text/plain": [
       "      Year                   Faculty                             Subject  \\\n",
       "2012  2021  Engineering & Technology  Engineering & Technology (Faculty)   \n",
       "2141  2021  Engineering & Technology  Engineering & Technology (Faculty)   \n",
       "2142  2021  Engineering & Technology  Engineering & Technology (Faculty)   \n",
       "2143  2021  Engineering & Technology  Engineering & Technology (Faculty)   \n",
       "2144  2021  Engineering & Technology  Engineering & Technology (Faculty)   \n",
       "2145  2021  Engineering & Technology  Engineering & Technology (Faculty)   \n",
       "2146  2021  Engineering & Technology  Engineering & Technology (Faculty)   \n",
       "2147  2021  Engineering & Technology  Engineering & Technology (Faculty)   \n",
       "2148  2021  Engineering & Technology  Engineering & Technology (Faculty)   \n",
       "2149  2021  Engineering & Technology  Engineering & Technology (Faculty)   \n",
       "\n",
       "      Rank                                  Institution        Location  \\\n",
       "2012  129=             Tecnológico de Monterrey (ITESM)          Mexico   \n",
       "2141  129=               Technische Universität Dresden         Germany   \n",
       "2142  129=                          University of Leeds  United Kingdom   \n",
       "2143   132              Beijing Institute of Technology           China   \n",
       "2144   133                        Ohio State University   United States   \n",
       "2145  134=                   The University of Adelaide       Australia   \n",
       "2146  134=  Universidade Estadual de Campinas (Unicamp)          Brazil   \n",
       "2147   136                         University of Twente     Netherlands   \n",
       "2148  137=                 The University of Nottingham  United Kingdom   \n",
       "2149  137=        University of California, Davis (UCD)   United States   \n",
       "\n",
       "      Academic Score  Employer Score  Citations Score  H Score  Score  \n",
       "2012            75.2            83.2             72.0     50.2   73.4  \n",
       "2141            79.2            59.6             83.3     75.7   73.4  \n",
       "2142            70.7            70.2             87.0     73.5   73.4  \n",
       "2143            72.9            62.9             81.3     87.2   73.3  \n",
       "2144            71.3            66.5             86.2     78.4   73.2  \n",
       "2145            67.6            65.6             96.1     79.6   73.1  \n",
       "2146            74.3            72.3             79.1     65.7   73.1  \n",
       "2147            75.2            67.2             83.4     68.5   73.0  \n",
       "2148            69.7            66.4             87.0     79.6   72.8  \n",
       "2149            70.4            66.1             87.1     78.4   72.8  "
      ]
     },
     "execution_count": 24,
     "metadata": {},
     "output_type": "execute_result"
    }
   ],
   "source": [
    "df_2021 = df[df['Year'] == 2021]\n",
    "score_predecido = modelo_forest.predict(x_tec)[-1]\n",
    "print(score_predecido)\n",
    "df_2021[df_2021['Score'] <= score_predecido +\n",
    "        0.1].sort_values(by='Score', ascending=0).head(10)\n"
   ]
  },
  {
   "cell_type": "markdown",
   "metadata": {},
   "source": [
    "Tomando solo su desempeño en **ingenieria** el tec podria bajar al lugar 130 "
   ]
  }
 ],
 "metadata": {
  "interpreter": {
   "hash": "7f2fb5054ba0ce0c884899d2ba4a497eb862025f3286037962041267a704989d"
  },
  "kernelspec": {
   "display_name": "Python 3 (ipykernel)",
   "language": "python",
   "name": "python3"
  },
  "language_info": {
   "codemirror_mode": {
    "name": "ipython",
    "version": 3
   },
   "file_extension": ".py",
   "mimetype": "text/x-python",
   "name": "python",
   "nbconvert_exporter": "python",
   "pygments_lexer": "ipython3",
   "version": "3.10.2"
  }
 },
 "nbformat": 4,
 "nbformat_minor": 2
}
