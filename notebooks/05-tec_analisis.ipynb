{
 "cells": [
  {
   "cell_type": "code",
   "execution_count": 1,
   "metadata": {},
   "outputs": [],
   "source": [
    "import pandas as pd\n",
    "from src.functions_qs import archivo_limpio as read"
   ]
  },
  {
   "cell_type": "code",
   "execution_count": 3,
   "metadata": {},
   "outputs": [],
   "source": [
    "df = read('../data/raw/QS WUR 2011-2022.xlsx')"
   ]
  },
  {
   "cell_type": "code",
   "execution_count": 4,
   "metadata": {},
   "outputs": [
    {
     "data": {
      "text/plain": [
       "(2200, 17)"
      ]
     },
     "execution_count": 4,
     "metadata": {},
     "output_type": "execute_result"
    }
   ],
   "source": [
    "df.shape"
   ]
  },
  {
   "cell_type": "code",
   "execution_count": 5,
   "metadata": {},
   "outputs": [
    {
     "data": {
      "text/html": [
       "<div>\n",
       "<style scoped>\n",
       "    .dataframe tbody tr th:only-of-type {\n",
       "        vertical-align: middle;\n",
       "    }\n",
       "\n",
       "    .dataframe tbody tr th {\n",
       "        vertical-align: top;\n",
       "    }\n",
       "\n",
       "    .dataframe thead th {\n",
       "        text-align: right;\n",
       "    }\n",
       "</style>\n",
       "<table border=\"1\" class=\"dataframe\">\n",
       "  <thead>\n",
       "    <tr style=\"text-align: right;\">\n",
       "      <th></th>\n",
       "      <th>Year</th>\n",
       "      <th>Rank</th>\n",
       "      <th>O_Rank</th>\n",
       "      <th>Institution</th>\n",
       "      <th>Academic Reputation</th>\n",
       "      <th>AR Rank</th>\n",
       "      <th>Employer Reputation</th>\n",
       "      <th>ER Rank</th>\n",
       "      <th>Faculty Student</th>\n",
       "      <th>FS Rank</th>\n",
       "      <th>Citations per Faculty</th>\n",
       "      <th>CF Rank</th>\n",
       "      <th>International Faculty</th>\n",
       "      <th>IF Rank</th>\n",
       "      <th>International Students</th>\n",
       "      <th>IS Rank</th>\n",
       "      <th>Overall Score</th>\n",
       "    </tr>\n",
       "  </thead>\n",
       "  <tbody>\n",
       "    <tr>\n",
       "      <th>62</th>\n",
       "      <td>2019.0</td>\n",
       "      <td>178.0</td>\n",
       "      <td>178.0</td>\n",
       "      <td>Tecnológico de Monterrey (ITESM)</td>\n",
       "      <td>33.2</td>\n",
       "      <td>246.0</td>\n",
       "      <td>82.3</td>\n",
       "      <td>67.0</td>\n",
       "      <td>88.4</td>\n",
       "      <td>94.0</td>\n",
       "      <td>3.9</td>\n",
       "      <td>601.0</td>\n",
       "      <td>99.6</td>\n",
       "      <td>60.0</td>\n",
       "      <td>22.2</td>\n",
       "      <td>494.0</td>\n",
       "      <td>46.2</td>\n",
       "    </tr>\n",
       "    <tr>\n",
       "      <th>0</th>\n",
       "      <td>2020.0</td>\n",
       "      <td>158.0</td>\n",
       "      <td>158.0</td>\n",
       "      <td>Tecnológico de Monterrey (ITESM)</td>\n",
       "      <td>36.9</td>\n",
       "      <td>226.0</td>\n",
       "      <td>88.9</td>\n",
       "      <td>53.0</td>\n",
       "      <td>89.5</td>\n",
       "      <td>82.0</td>\n",
       "      <td>4.6</td>\n",
       "      <td>601.0</td>\n",
       "      <td>98.2</td>\n",
       "      <td>98.0</td>\n",
       "      <td>18.4</td>\n",
       "      <td>549.0</td>\n",
       "      <td>48.5</td>\n",
       "    </tr>\n",
       "    <tr>\n",
       "      <th>154</th>\n",
       "      <td>2021.0</td>\n",
       "      <td>155.0</td>\n",
       "      <td>155</td>\n",
       "      <td>Tecnológico de Monterrey (ITESM)</td>\n",
       "      <td>41.7</td>\n",
       "      <td>198.0</td>\n",
       "      <td>88.3</td>\n",
       "      <td>56.0</td>\n",
       "      <td>87.3</td>\n",
       "      <td>102.0</td>\n",
       "      <td>5.2</td>\n",
       "      <td>601.0</td>\n",
       "      <td>96.7</td>\n",
       "      <td>122.0</td>\n",
       "      <td>16.1</td>\n",
       "      <td>600.0</td>\n",
       "      <td>49.9</td>\n",
       "    </tr>\n",
       "  </tbody>\n",
       "</table>\n",
       "</div>"
      ],
      "text/plain": [
       "       Year   Rank   O_Rank                      Institution   \\\n",
       "62   2019.0  178.0    178.0  Tecnológico de Monterrey (ITESM)   \n",
       "0    2020.0  158.0    158.0  Tecnológico de Monterrey (ITESM)   \n",
       "154  2021.0  155.0    155    Tecnológico de Monterrey (ITESM)   \n",
       "\n",
       "     Academic Reputation AR Rank Employer Reputation ER Rank  Faculty Student  \\\n",
       "62                  33.2   246.0                82.3    67.0             88.4   \n",
       "0                   36.9   226.0                88.9    53.0             89.5   \n",
       "154                 41.7   198.0                88.3    56.0             87.3   \n",
       "\n",
       "     FS Rank  Citations per Faculty  CF Rank International Faculty  IF Rank  \\\n",
       "62      94.0                    3.9    601.0                  99.6     60.0   \n",
       "0       82.0                    4.6    601.0                  98.2     98.0   \n",
       "154    102.0                    5.2    601.0                  96.7    122.0   \n",
       "\n",
       "     International Students  IS Rank  Overall Score  \n",
       "62                     22.2    494.0           46.2  \n",
       "0                      18.4    549.0           48.5  \n",
       "154                    16.1    600.0           49.9  "
      ]
     },
     "execution_count": 5,
     "metadata": {},
     "output_type": "execute_result"
    }
   ],
   "source": [
    "df[df['Institution '] == 'Tecnológico de Monterrey (ITESM)']"
   ]
  },
  {
   "cell_type": "code",
   "execution_count": null,
   "metadata": {},
   "outputs": [],
   "source": []
  }
 ],
 "metadata": {
  "interpreter": {
   "hash": "7f2fb5054ba0ce0c884899d2ba4a497eb862025f3286037962041267a704989d"
  },
  "kernelspec": {
   "display_name": "Python 3.10.2 ('rankings')",
   "language": "python",
   "name": "python3"
  },
  "language_info": {
   "codemirror_mode": {
    "name": "ipython",
    "version": 3
   },
   "file_extension": ".py",
   "mimetype": "text/x-python",
   "name": "python",
   "nbconvert_exporter": "python",
   "pygments_lexer": "ipython3",
   "version": "3.10.2"
  },
  "orig_nbformat": 4
 },
 "nbformat": 4,
 "nbformat_minor": 2
}
