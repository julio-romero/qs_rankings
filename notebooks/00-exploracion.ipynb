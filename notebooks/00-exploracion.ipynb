{
 "cells": [
  {
   "cell_type": "markdown",
   "metadata": {},
   "source": [
    "# Exploracion de Datos\n",
    "\n",
    "Aquí leeremos los excel compartidos, favor de cambiar el path para que sea compatible, tambien podria conectarse con drive pero prefiero trabajar en local"
   ]
  },
  {
   "cell_type": "code",
   "execution_count": 22,
   "metadata": {},
   "outputs": [],
   "source": [
    "import pandas as pd"
   ]
  },
  {
   "cell_type": "code",
   "execution_count": 23,
   "metadata": {},
   "outputs": [],
   "source": [
    "df_qs_11 = pd.read_excel('../data/raw/QS WUR 2011-2022.xlsx',sheet_name='2011') \n",
    "df_qs_12 = pd.read_excel('../data/raw/QS WUR 2011-2022.xlsx',sheet_name='2012') \n",
    "df_qs_13 = pd.read_excel('../data/raw/QS WUR 2011-2022.xlsx',sheet_name='2013') \n",
    "df_qs_14 = pd.read_excel('../data/raw/QS WUR 2011-2022.xlsx',sheet_name='2014') \n",
    "df_qs_15 = pd.read_excel('../data/raw/QS WUR 2011-2022.xlsx',sheet_name='2015') \n",
    "df_qs_16 = pd.read_excel('../data/raw/QS WUR 2011-2022.xlsx',sheet_name='2016') "
   ]
  },
  {
   "cell_type": "code",
   "execution_count": 24,
   "metadata": {},
   "outputs": [],
   "source": [
    "df_qs_17 = pd.read_excel('../data/raw/QS WUR 2011-2022.xlsx',sheet_name='2017') \n",
    "df_qs_18 = pd.read_excel('../data/raw/QS WUR 2011-2022.xlsx',sheet_name='2018') \n",
    "df_qs_19 = pd.read_excel('../data/raw/QS WUR 2011-2022.xlsx',sheet_name='2019') \n",
    "df_qs_20 = pd.read_excel('../data/raw/QS WUR 2011-2022.xlsx',sheet_name='2020') \n",
    "df_qs_21 = pd.read_excel('../data/raw/QS WUR 2011-2022.xlsx',sheet_name='2021') \n",
    "# df_qs_22 = pd.read_excel('../data/raw/QS WUR 2011-2022.xlsx',sheet_name='2022') Esta hoja al parecer tiene un problema :()"
   ]
  },
  {
   "cell_type": "code",
   "execution_count": 25,
   "metadata": {},
   "outputs": [],
   "source": [
    "df = pd.concat([df_qs_11,df_qs_12,df_qs_13,df_qs_14,df_qs_15,df_qs_16,df_qs_17,df_qs_18,df_qs_19,df_qs_20,df_qs_21])"
   ]
  },
  {
   "cell_type": "code",
   "execution_count": 27,
   "metadata": {},
   "outputs": [
    {
     "data": {
      "text/html": [
       "<div>\n",
       "<style scoped>\n",
       "    .dataframe tbody tr th:only-of-type {\n",
       "        vertical-align: middle;\n",
       "    }\n",
       "\n",
       "    .dataframe tbody tr th {\n",
       "        vertical-align: top;\n",
       "    }\n",
       "\n",
       "    .dataframe thead th {\n",
       "        text-align: right;\n",
       "    }\n",
       "</style>\n",
       "<table border=\"1\" class=\"dataframe\">\n",
       "  <thead>\n",
       "    <tr style=\"text-align: right;\">\n",
       "      <th></th>\n",
       "      <th>Year</th>\n",
       "      <th>Rank</th>\n",
       "      <th>O_Rank</th>\n",
       "      <th>Institution</th>\n",
       "      <th>Academic Reputation</th>\n",
       "      <th>AR Rank</th>\n",
       "      <th>Employer Reputation</th>\n",
       "      <th>ER Rank</th>\n",
       "      <th>Faculty Student</th>\n",
       "      <th>FS Rank</th>\n",
       "      <th>Citations per Faculty</th>\n",
       "      <th>CF Rank</th>\n",
       "      <th>International Faculty</th>\n",
       "      <th>IF Rank</th>\n",
       "      <th>International Students</th>\n",
       "      <th>IS Rank</th>\n",
       "      <th>Overall Score</th>\n",
       "    </tr>\n",
       "  </thead>\n",
       "  <tbody>\n",
       "    <tr>\n",
       "      <th>144</th>\n",
       "      <td>2012.0</td>\n",
       "      <td>145.0</td>\n",
       "      <td>145.0</td>\n",
       "      <td>Case Western Reserve University</td>\n",
       "      <td>31.1</td>\n",
       "      <td>301.0</td>\n",
       "      <td>2.5</td>\n",
       "      <td>301.0</td>\n",
       "      <td>92.7</td>\n",
       "      <td>56.0</td>\n",
       "      <td>90.8</td>\n",
       "      <td>45.0</td>\n",
       "      <td>25.1</td>\n",
       "      <td>301.0</td>\n",
       "      <td>61.8</td>\n",
       "      <td>190.0</td>\n",
       "      <td>54.8</td>\n",
       "    </tr>\n",
       "    <tr>\n",
       "      <th>242</th>\n",
       "      <td>2015.0</td>\n",
       "      <td>243.0</td>\n",
       "      <td>243.0</td>\n",
       "      <td>Chulalongkorn University</td>\n",
       "      <td>75.6</td>\n",
       "      <td>122.0</td>\n",
       "      <td>65.7</td>\n",
       "      <td>189.0</td>\n",
       "      <td>33.4</td>\n",
       "      <td>401.0</td>\n",
       "      <td>12.5</td>\n",
       "      <td>401.0</td>\n",
       "      <td>15.1</td>\n",
       "      <td>401.0</td>\n",
       "      <td>4.0</td>\n",
       "      <td>401.0</td>\n",
       "      <td>47.1</td>\n",
       "    </tr>\n",
       "    <tr>\n",
       "      <th>291</th>\n",
       "      <td>2011.0</td>\n",
       "      <td>292.0</td>\n",
       "      <td>292.0</td>\n",
       "      <td>Universidade Estadual de Campinas (Unicamp)</td>\n",
       "      <td>46.0</td>\n",
       "      <td>220.0</td>\n",
       "      <td>25.0</td>\n",
       "      <td>301.0</td>\n",
       "      <td>40.0</td>\n",
       "      <td>301.0</td>\n",
       "      <td>34.0</td>\n",
       "      <td>280.0</td>\n",
       "      <td>26.0</td>\n",
       "      <td>294.0</td>\n",
       "      <td>7.0</td>\n",
       "      <td>301.0</td>\n",
       "      <td>37.9</td>\n",
       "    </tr>\n",
       "    <tr>\n",
       "      <th>454</th>\n",
       "      <td>2014.0</td>\n",
       "      <td>456.0</td>\n",
       "      <td>456.0</td>\n",
       "      <td>Shanghai University</td>\n",
       "      <td>NaN</td>\n",
       "      <td>NaN</td>\n",
       "      <td>NaN</td>\n",
       "      <td>NaN</td>\n",
       "      <td>30.7</td>\n",
       "      <td>401.0</td>\n",
       "      <td>12.7</td>\n",
       "      <td>401.0</td>\n",
       "      <td>6.9</td>\n",
       "      <td>401.0</td>\n",
       "      <td>3.6</td>\n",
       "      <td>401.0</td>\n",
       "      <td>30.0</td>\n",
       "    </tr>\n",
       "    <tr>\n",
       "      <th>408</th>\n",
       "      <td>2019.0</td>\n",
       "      <td>362.0</td>\n",
       "      <td>362.0</td>\n",
       "      <td>Taipei Medical University</td>\n",
       "      <td>9.7</td>\n",
       "      <td>501.0</td>\n",
       "      <td>13.2</td>\n",
       "      <td>501.0</td>\n",
       "      <td>93.6</td>\n",
       "      <td>73.0</td>\n",
       "      <td>18.7</td>\n",
       "      <td>575.0</td>\n",
       "      <td>28.5</td>\n",
       "      <td>462.0</td>\n",
       "      <td>20.0</td>\n",
       "      <td>525.0</td>\n",
       "      <td>30.2</td>\n",
       "    </tr>\n",
       "  </tbody>\n",
       "</table>\n",
       "</div>"
      ],
      "text/plain": [
       "       Year   Rank O_Rank                                 Institution   \\\n",
       "144  2012.0  145.0  145.0              Case Western Reserve University   \n",
       "242  2015.0  243.0  243.0                     Chulalongkorn University   \n",
       "291  2011.0  292.0  292.0  Universidade Estadual de Campinas (Unicamp)   \n",
       "454  2014.0  456.0  456.0                          Shanghai University   \n",
       "408  2019.0  362.0  362.0                    Taipei Medical University   \n",
       "\n",
       "    Academic Reputation AR Rank Employer Reputation ER Rank Faculty Student  \\\n",
       "144                31.1   301.0                 2.5   301.0            92.7   \n",
       "242                75.6   122.0                65.7   189.0            33.4   \n",
       "291                46.0   220.0                25.0   301.0            40.0   \n",
       "454                 NaN     NaN                 NaN     NaN            30.7   \n",
       "408                 9.7   501.0                13.2   501.0            93.6   \n",
       "\n",
       "    FS Rank Citations per Faculty CF Rank International Faculty IF Rank  \\\n",
       "144    56.0                  90.8    45.0                  25.1   301.0   \n",
       "242   401.0                  12.5   401.0                  15.1   401.0   \n",
       "291   301.0                  34.0   280.0                  26.0   294.0   \n",
       "454   401.0                  12.7   401.0                   6.9   401.0   \n",
       "408    73.0                  18.7   575.0                  28.5   462.0   \n",
       "\n",
       "    International Students IS Rank Overall Score  \n",
       "144                   61.8   190.0          54.8  \n",
       "242                    4.0   401.0          47.1  \n",
       "291                    7.0   301.0          37.9  \n",
       "454                    3.6   401.0          30.0  \n",
       "408                   20.0   525.0          30.2  "
      ]
     },
     "execution_count": 27,
     "metadata": {},
     "output_type": "execute_result"
    }
   ],
   "source": [
    "df.sample(5)"
   ]
  },
  {
   "cell_type": "code",
   "execution_count": 28,
   "metadata": {},
   "outputs": [
    {
     "data": {
      "text/plain": [
       "Year                      float64\n",
       "Rank                      float64\n",
       "O_Rank                     object\n",
       "Institution                object\n",
       "Academic Reputation        object\n",
       "AR Rank                    object\n",
       "Employer Reputation        object\n",
       "ER Rank                    object\n",
       "Faculty Student            object\n",
       "FS Rank                    object\n",
       "Citations per Faculty      object\n",
       "CF Rank                    object\n",
       "International Faculty      object\n",
       "IF Rank                    object\n",
       "International Students     object\n",
       "IS Rank                    object\n",
       "Overall Score              object\n",
       "dtype: object"
      ]
     },
     "execution_count": 28,
     "metadata": {},
     "output_type": "execute_result"
    }
   ],
   "source": [
    "df.dtypes"
   ]
  },
  {
   "cell_type": "code",
   "execution_count": 29,
   "metadata": {},
   "outputs": [
    {
     "data": {
      "text/plain": [
       "(5510, 17)"
      ]
     },
     "execution_count": 29,
     "metadata": {},
     "output_type": "execute_result"
    }
   ],
   "source": [
    "df.shape"
   ]
  },
  {
   "cell_type": "markdown",
   "metadata": {},
   "source": [
    "## Funcion para facilitar la lectura\n",
    "\n",
    "Haremos lo mismo de arriba pero en una funcion que reciba el nombre del excel y lea cada año, se aceptan sugerencias \n",
    "\n",
    "```python\n",
    "def lectura(excel):\n",
    "    import pandas as pd\n",
    "    df_qs_11 = pd.read_excel(excel,sheet_name='2011')\n",
    "    df_qs_12 = pd.read_excel(excel,sheet_name='2012') \n",
    "    df_qs_13 = pd.read_excel(excel,sheet_name='2013') \n",
    "    df_qs_14 = pd.read_excel(excel,sheet_name='2014') \n",
    "    df_qs_15 = pd.read_excel(excel,sheet_name='2015')\n",
    "    df_qs_16 = pd.read_excel(excel,sheet_name='2016')\n",
    "    df_qs_17 = pd.read_excel(excel,sheet_name='2017') \n",
    "    df_qs_18 = pd.read_excel(excel,sheet_name='2018') \n",
    "    df_qs_19 = pd.read_excel(excel,sheet_name='2019') \n",
    "    df_qs_20 = pd.read_excel(excel,sheet_name='2020')\n",
    "    df_qs_21 = pd.read_excel(excel,sheet_name='2021')\n",
    "    df = pd.concat([df_qs_11,df_qs_12,df_qs_13,df_qs_14,df_qs_15,\n",
    "    df_qs_16,df_qs_17,df_qs_18,df_qs_19,df_qs_20,df_qs_21])  \n",
    "    return df \n",
    "```"
   ]
  }
 ],
 "metadata": {
  "interpreter": {
   "hash": "aee8b7b246df8f9039afb4144a1f6fd8d2ca17a180786b69acc140d282b71a49"
  },
  "kernelspec": {
   "display_name": "Python 3.9.1 64-bit",
   "language": "python",
   "name": "python3"
  },
  "language_info": {
   "codemirror_mode": {
    "name": "ipython",
    "version": 3
   },
   "file_extension": ".py",
   "mimetype": "text/x-python",
   "name": "python",
   "nbconvert_exporter": "python",
   "pygments_lexer": "ipython3",
   "version": "3.10.2"
  },
  "orig_nbformat": 4
 },
 "nbformat": 4,
 "nbformat_minor": 2
}
